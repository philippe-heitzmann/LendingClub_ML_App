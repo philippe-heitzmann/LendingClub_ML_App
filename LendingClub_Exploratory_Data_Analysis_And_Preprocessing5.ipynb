{
 "cells": [
  {
   "cell_type": "code",
   "execution_count": 3,
   "metadata": {},
   "outputs": [],
   "source": [
    "#importing required packages \n",
    "import pandas as pd \n",
    "import numpy as np\n",
    "import matplotlib.pyplot as plt\n",
    "from itertools import combinations \n",
    "from collections import defaultdict\n",
    "from scipy.stats import pearsonr, chi2_contingency\n",
    "from sklearn.feature_selection import RFECV\n",
    "from sklearn.model_selection import train_test_split\n",
    "from sklearn.model_selection import cross_val_score\n",
    "from sklearn.model_selection import GridSearchCV\n",
    "from sklearn.metrics import accuracy_score\n",
    "from sklearn.metrics import precision_score\n",
    "from sklearn.metrics import recall_score\n",
    "from sklearn.linear_model import LogisticRegression\n",
    "from sklearn.metrics import roc_auc_score\n",
    "from sklearn import preprocessing\n",
    "import datetime\n",
    "import time\n",
    "import pickle\n",
    "import os\n",
    "from sklearn import naive_bayes\n",
    "from sklearn import discriminant_analysis\n",
    "import seaborn as sns\n",
    "import MySQLdb"
   ]
  },
  {
   "cell_type": "code",
   "execution_count": 51,
   "metadata": {},
   "outputs": [
    {
     "data": {
      "text/plain": [
       "4281"
      ]
     },
     "execution_count": 51,
     "metadata": {},
     "output_type": "execute_result"
    }
   ],
   "source": [
    "#creating a connection to our MySQL server\n",
    "conn = MySQLdb.connect(host=dsn_hostname, port=dsn_port, user=dsn_uid, passwd=dsn_pwd, db=dsn_database)\n",
    "# ^parameter values above were removed to prevent password leakage issues \n",
    "c=conn.cursor()\n",
    "c.execute(\"\"\"SELECT * FROM lendingclub3\"\"\")"
   ]
  },
  {
   "cell_type": "code",
   "execution_count": 2,
   "metadata": {
    "scrolled": false
   },
   "outputs": [
    {
     "name": "stderr",
     "output_type": "stream",
     "text": [
      "/Users/philippeheitzmann/opt/anaconda3/lib/python3.7/site-packages/IPython/core/interactiveshell.py:3072: DtypeWarning: Columns (0,19,49,59,118,129,130,131,134,135,136,139,145,146,147) have mixed types.Specify dtype option on import or set low_memory=False.\n",
      "  interactivity=interactivity, compiler=compiler, result=result)\n"
     ]
    }
   ],
   "source": [
    "#reading in our data locally through our main csv file \n",
    "accepted_df = pd.read_csv('accepted_2007_to_2018Q4.csv', sep = ',')"
   ]
  },
  {
   "cell_type": "code",
   "execution_count": 4,
   "metadata": {},
   "outputs": [
    {
     "data": {
      "text/plain": [
       "0.3178005318405443"
      ]
     },
     "execution_count": 4,
     "metadata": {},
     "output_type": "execute_result"
    }
   ],
   "source": [
    "accepted_df.isna().sum().sum()/(accepted_df.shape[0] * accepted_df.shape[1])"
   ]
  },
  {
   "cell_type": "code",
   "execution_count": 5,
   "metadata": {},
   "outputs": [
    {
     "data": {
      "text/plain": [
       "34016115925.0"
      ]
     },
     "execution_count": 5,
     "metadata": {},
     "output_type": "execute_result"
    }
   ],
   "source": [
    "accepted_df.loan_amnt.sum()"
   ]
  },
  {
   "cell_type": "code",
   "execution_count": 63,
   "metadata": {
    "scrolled": true
   },
   "outputs": [
    {
     "data": {
      "text/plain": [
       "((Decimal('65256750'),),)"
      ]
     },
     "execution_count": 63,
     "metadata": {},
     "output_type": "execute_result"
    }
   ],
   "source": [
    "#mySQLdb query to return the same albeit from our smaller accepted_df dataset\n",
    "c.execute(\"\"\"SELECT sum(loan_amnt) FROM lendingclub3\"\"\")\n",
    "c.fetchall()"
   ]
  },
  {
   "cell_type": "code",
   "execution_count": 4,
   "metadata": {},
   "outputs": [],
   "source": [
    "#creating function to quickly get an idea of values that comprise feature \n",
    "def variable_expl(variable):\n",
    "    print(accepted_df[variable].value_counts())\n",
    "    print(' ')\n",
    "    print('Number of NA\\'s is:', accepted_df[variable].isna().sum())\n",
    "    print('Number of unique values is:', accepted_df[variable].nunique())\n",
    "    if accepted_df[variable].dtype == 'float64' or accepted_df[variable].dtype == 'int64':\n",
    "        print('Mean is:', np.mean(accepted_df[variable]))\n",
    "        print('Std.Dev is:', np.std(accepted_df[variable]))\n",
    "    else:\n",
    "        return False"
   ]
  },
  {
   "cell_type": "code",
   "execution_count": 5,
   "metadata": {},
   "outputs": [],
   "source": [
    "#creating function to return correlation value between two features \n",
    "def corr_value(variable1, variable2):\n",
    "    print(accepted_df[variable1].corr(accepted_df[variable2]))"
   ]
  },
  {
   "cell_type": "code",
   "execution_count": 6,
   "metadata": {},
   "outputs": [],
   "source": [
    "#creating a function that can print full series values in Jupyter notebook\n",
    "def print_full(x):\n",
    "    pd.set_option('display.max_rows', len(x))\n",
    "    print(x)\n",
    "    pd.reset_option('display.max_rows')"
   ]
  },
  {
   "cell_type": "code",
   "execution_count": 7,
   "metadata": {},
   "outputs": [],
   "source": [
    "#creating a function to return correlation values between numeric variables\n",
    "#num_feat2 needs to be instantiated in order for correlation to run\n",
    "from collections import defaultdict\n",
    "\n",
    "        \n",
    "def correlation(variable):\n",
    "    dict1 = defaultdict(int)\n",
    "    for x in accepted_df[num_feat2].columns.values:\n",
    "        corr1 = accepted_df[x].corr(accepted_df[variable])\n",
    "        dict1[x] = abs(corr1)\n",
    "    return sorted(dict1.items(), key = lambda x: x[1], reverse = True)"
   ]
  },
  {
   "cell_type": "code",
   "execution_count": 8,
   "metadata": {},
   "outputs": [],
   "source": [
    "#creating month_dict to map str month values to int\n",
    "month_dict = {'Jan':1,'Feb':2,'Mar':3,'Apr':4,'May':5,'Jun':6,'Jul':7,'Aug':8,'Sep':9,'Oct':10,'Nov':11,'Dec':12}"
   ]
  },
  {
   "cell_type": "code",
   "execution_count": 9,
   "metadata": {},
   "outputs": [
    {
     "data": {
      "text/plain": [
       "(2260668, 157)"
      ]
     },
     "execution_count": 9,
     "metadata": {},
     "output_type": "execute_result"
    }
   ],
   "source": [
    "#dropping observations with NA's for loan status\n",
    "accepted_df = accepted_df.dropna(subset = ['loan_status'])\n",
    "\n",
    "#creates issue_d_year and issue_d_month variables that will be later used to filter the dataframe \n",
    "\n",
    "def date_transformation(df):\n",
    "    df[['earliest_cr_line_month','earliest_cr_line_year']] = df['earliest_cr_line'].str.split('-', expand = True)\n",
    "    df['earliest_cr_line_year'] = df['earliest_cr_line_year'].fillna('2019')\n",
    "    df['earliest_cr_line_month'] = df['earliest_cr_line_month'].fillna('Jun')\n",
    "    df[['issue_d_month','issue_d_year']] = df['issue_d'].str.split('-', expand = True)\n",
    "    df.issue_d_year = df.issue_d_year.astype('int64')\n",
    "    \n",
    "    #mapping string months to num months for datetime conversion\n",
    "    month_dict = {'Jan':1,'Feb':2,'Mar':3,'Apr':4,'May':5,'Jun':6,'Jul':7,'Aug':8,'Sep':9,'Oct':10,'Nov':11,'Dec':12}\n",
    "    df['issue_d_month_num'] = df['issue_d_month'][:] \n",
    "    df['issue_d_month_num'] = df['issue_d_month_num'].replace(month_dict)\n",
    "    df['issue_d_date'] = str('15/') + df['issue_d_month_num'].astype(str) + '/' + df['issue_d_year'].astype(str)\n",
    "    df['issue_d_date'] = pd.to_datetime(df['issue_d_date'], infer_datetime_format=True)\n",
    "    df.drop(['issue_d_month_num'], axis = 1, inplace = True)\n",
    "    df['Year'] = pd.DatetimeIndex(df['issue_d_date']).year\n",
    "\n",
    "    return df.shape\n",
    "\n",
    "date_transformation(accepted_df)"
   ]
  },
  {
   "cell_type": "code",
   "execution_count": 10,
   "metadata": {},
   "outputs": [],
   "source": [
    "#selecting only 2012, 2013, 2014, 2015, 2016, 2017, 2018, 2019 data\n",
    "accepted_df = accepted_df[accepted_df['issue_d_year'].isin([2012,2013,2014,2015,2016,2017,2018,2019])]\n",
    "\n",
    "#IMPUTATION\n",
    "\n",
    "#fillmean values \n",
    "fillmean = ['annual_inc','delinq_amnt','acc_now_delinq','delinq_2yrs','dti','revol_util','inq_last_6mths',\n",
    "           'open_acc','pub_rec','open_acc_6m','open_act_il','open_il_12m','open_il_24m','mths_since_rcnt_il',\n",
    "           'il_util','open_rv_12m','open_rv_24m','max_bal_bc','all_util','total_rev_hi_lim','inq_fi',\n",
    "           'total_cu_tl','inq_last_12m','acc_open_past_24mths','avg_cur_bal','bc_open_to_buy','bc_util',\n",
    "           'mo_sin_old_il_acct','mo_sin_rcnt_rev_tl_op','mo_sin_rcnt_tl','mths_since_recent_bc',\n",
    "           'mths_since_recent_inq','num_accts_ever_120_pd','num_actv_bc_tl','num_bc_sats','num_bc_tl','num_il_tl',\n",
    "           'num_op_rev_tl','num_rev_accts','num_rev_tl_bal_gt_0','num_sats','num_tl_120dpd_2m','num_tl_30dpd',\n",
    "           'num_tl_90g_dpd_24m','num_tl_op_past_12m','percent_bc_gt_75','tot_hi_cred_lim','total_bc_limit',\n",
    "           'total_il_high_credit_limit']\n",
    "\n",
    "\n",
    "#missing values here likely mean absence of the feature for that observation. \n",
    "fillzero = ['open_acc','pub_rec','inq_last_6mths','tax_liens','collections_12_mths_ex_med',\n",
    "           'chargeoff_within_12_mths','pub_rec_bankruptcies','emp_length','tot_coll_amt']\n",
    "\n",
    "\n",
    "def fillvars(accepted_df):\n",
    "    for x in fillmean:\n",
    "        try:\n",
    "            accepted_df[x] = accepted_df[x].fillna(accepted_df[x].mean())\n",
    "        except:\n",
    "            continue\n",
    "    for d in fillzero:\n",
    "        try:\n",
    "            accepted_df[d] = accepted_df[d].fillna(0)\n",
    "        except:\n",
    "            continue\n",
    "fillvars(accepted_df)\n",
    "    "
   ]
  },
  {
   "cell_type": "code",
   "execution_count": 11,
   "metadata": {
    "scrolled": false
   },
   "outputs": [],
   "source": [
    "#dropping irrelevant or missing data features from the start\n",
    "\n",
    "#dropping certain variables from the get-go in order to reduce processing time during multicollinearity analysis\n",
    "accepted_df = accepted_df.drop(['member_id','id','funded_amnt_inv','url','desc'], axis = 1)\n",
    "#looking at variables with highest NA counts\n",
    "accepted_df_nas = (accepted_df.isna().sum()/accepted_df.shape[0]).reset_index()\n",
    "accepted_df_nas.columns = ['Feature','Percent_Missing']\n",
    "accepted_df_nas = accepted_df_nas.sort_values(by = 'Percent_Missing')\n",
    "#getting index list of variables wiht > 50% missing values \n",
    "index1 = list(accepted_df_nas[accepted_df_nas['Percent_Missing'] > 0.5].index)\n",
    "#dropping the columns that have missing values > 0.5\n",
    "accepted_df.drop(accepted_df.columns[index1], axis = 1, inplace = True)\n",
    "#since policy_code has only one value, drop this column as well\n",
    "accepted_df = accepted_df.drop(['policy_code'], axis = 1)\n",
    "#zip_code variable has last two digits of zip_code missing, so we can safely drop this one \n",
    "accepted_df = accepted_df.drop(['zip_code'], axis = 1)\n",
    "#drop last_payment_d variable because this variable would not be accessible to investors and would introduce data leakage\n",
    "accepted_df.drop(['last_pymnt_d','collection_recovery_fee','recoveries'], axis = 1, inplace = True)\n",
    "#drop last_fico_range_low because of high correlation with last_fico_range_high\n",
    "accepted_df.drop(['last_fico_range_low'], axis = 1, inplace = True)\n",
    "#cleaning categorical variables \n",
    "#term should be converted to numeric\n",
    "accepted_df['term'] = accepted_df['term'].replace({' 36 months':36,' 60 months':60})\n",
    "#85% of last_credit_pull_d values are Mar-2019, so drop\n",
    "accepted_df.drop(['last_credit_pull_d'], axis = 1, inplace = True)\n",
    "#title and purpose variables are quasi-identical, so drop one\n",
    "accepted_df.drop(['title'], axis = 1, inplace = True)\n",
    "#creating a new variable to capture number of years of oldest credit line, defined as issue_d - earliest_cr_line"
   ]
  },
  {
   "cell_type": "code",
   "execution_count": 12,
   "metadata": {},
   "outputs": [],
   "source": [
    "accepted_df['earliest_cr_line_month_num'] = accepted_df['earliest_cr_line_month'][:] \n",
    "accepted_df['earliest_cr_line_month_num'] = accepted_df['earliest_cr_line_month_num'].replace(month_dict)\n",
    "accepted_df['earliest_cr_line_date'] = str('15/') + accepted_df['earliest_cr_line_month_num'].astype(str) + '/' + accepted_df['earliest_cr_line_year'].astype(str)\n",
    "accepted_df.drop(['earliest_cr_line_month_num'], axis = 1, inplace = True)\n",
    "accepted_df['earliest_cr_line_date'] = pd.to_datetime(accepted_df['earliest_cr_line_date'], infer_datetime_format=True)\n",
    "#creating new variable capturing amount of years of oldest credit line \n",
    "accepted_df['earliest_credit_line_years'] = accepted_df['issue_d_date'] - accepted_df['earliest_cr_line_date'] \n",
    "#dropping debt_settlement_flag because this would introduce data leakage into the dataset\n",
    "#dropping 'earliest_cr_line_month','earliest_cr_line_year','issue_d_month' because these are now captured in earliest_credit_line_yearsa nd issue_d_date\n",
    "accepted_df.drop(['debt_settlement_flag', 'earliest_cr_line_month','earliest_cr_line_year','issue_d_month'], axis = 1, inplace = True)\n",
    "#dropping earliest_cr_line\n",
    "accepted_df.drop(['earliest_cr_line'], axis = 1, inplace = True)\n",
    "#dropping emp_title because mapping to general categories i.e. Director or President \n",
    "# would most likely be highly correlated with income and would be very computationally/time expensive\n",
    "accepted_df.drop(['emp_title'],axis = 1, inplace = True)\n",
    "#dropping issue_d_year because year already captured in issue_d_date\n",
    "accepted_df.drop(['issue_d_year'],axis = 1, inplace = True)\n",
    "#dropping issue_d because year already captured in issue_d_date\n",
    "accepted_df.drop(['issue_d'],axis = 1, inplace = True)\n",
    "#mapping 10+ years to 11 years and <1 years to 0 years in emp_length and converting this to a float\n",
    "accepted_df['emp_length'] = accepted_df['emp_length'].replace({'< 1 year': '0 years', '10+ years': '11 years'})\n",
    "accepted_df['emp_length'] = accepted_df['emp_length'].str.extract('(\\d+)').astype('float')\n",
    "#replacing values in application_type_variable\n",
    "accepted_df['application_type'] = accepted_df['application_type'].replace({'Individual':'Ind','Joint App':'Joint'}) \n",
    "#dropping pymnt_plan and hardship_flag because keeping these would constitute data leakage \n",
    "accepted_df.drop(['pymnt_plan','hardship_flag'],axis = 1, inplace = True)\n",
    "#mapping our dependent variable loan_status to 0/1 values\n",
    "accepted_df['loan_status'] = accepted_df['loan_status'].isin(['Fully Paid','Current','In Grace Period','Does not meet the credit policy. Status:Fully Paid']).astype('int64')"
   ]
  },
  {
   "cell_type": "code",
   "execution_count": null,
   "metadata": {
    "scrolled": true
   },
   "outputs": [],
   "source": [
    "#exploratory data analysis of emp_length vs loan_status\n",
    "\n",
    "eda1 = accepted_df.groupby(['addr_state','emp_length'])['loan_status'].mean().to_frame().reset_index()\n",
    "eda1['loan_status'] = 1 - eda1['loan_status']\n",
    "eda1['above_average'] = np.where(eda1['loan_status'] > np.mean(eda1['loan_status']), 1, 0)\n",
    "eda1.loc[eda1['emp_length'] == 11, 'emp_length'] = 10\n",
    "eda1['emp_length'].value_counts()"
   ]
  },
  {
   "cell_type": "code",
   "execution_count": 158,
   "metadata": {},
   "outputs": [],
   "source": [
    "#pickling this emp_length groupby dataframe\n",
    "with open('eda1.pickle','wb') as eda1_file:\n",
    "     pickle.dump(eda1, eda1_file)"
   ]
  },
  {
   "cell_type": "code",
   "execution_count": 67,
   "metadata": {},
   "outputs": [
    {
     "data": {
      "text/plain": [
       "(('10+ years', 11.939009900990017),\n",
       " ('3 years', 12.62005333333331),\n",
       " ('4 years', 12.597999999999987),\n",
       " ('6 years', 12.743684210526316),\n",
       " ('1 year', 12.53996336996336),\n",
       " ('7 years', 12.652661870503605),\n",
       " ('8 years', 12.287822222222218),\n",
       " ('5 years', 12.310078124999999),\n",
       " ('2 years', 12.60452970297026),\n",
       " ('9 years', 12.126449275362326),\n",
       " ('< 1 year', 12.444197247706404),\n",
       " ('', 12.418057142857153))"
      ]
     },
     "execution_count": 67,
     "metadata": {},
     "output_type": "execute_result"
    }
   ],
   "source": [
    "#mySQLdb query to return the same EDA albeit from our smaller accepted_df dataset and looking at int_rate instead of \n",
    "#default rate\n",
    "c.execute(\"\"\"SELECT emp_length, avg(int_rate) FROM lendingclub3 group by emp_length\"\"\")\n",
    "c.fetchall()"
   ]
  },
  {
   "cell_type": "code",
   "execution_count": null,
   "metadata": {
    "scrolled": true
   },
   "outputs": [],
   "source": [
    "#creating dataframe of average default rates by US State\n",
    "\n",
    "eda2 = accepted_df.loc[accepted_df['Year'] > 2014].groupby(['addr_state','Year'])['loan_status'].mean().to_frame().reset_index()\n",
    "eda2['loan_status'] = 1 - eda2['loan_status']\n",
    "eda2"
   ]
  },
  {
   "cell_type": "code",
   "execution_count": 34,
   "metadata": {},
   "outputs": [],
   "source": [
    "#looking at distribution of loan grades by state\n",
    "eda3 = accepted_df.groupby(['addr_state','grade']).agg({'loan_amnt':'sum'}) #.to_frame().reset_index()\n",
    "eda3 = eda3.groupby(level=0).apply(lambda x: 100 * x / float(x.sum())).reset_index()\n",
    "eda3\n",
    "with open('eda3.pickle','wb') as eda3_file:\n",
    "    pickle.dump(eda3, eda3_file)"
   ]
  },
  {
   "cell_type": "code",
   "execution_count": 70,
   "metadata": {},
   "outputs": [
    {
     "data": {
      "text/plain": [
       "(('C', Decimal('18553150')),\n",
       " ('B', Decimal('17465500')),\n",
       " ('F', Decimal('1896825')),\n",
       " ('A', Decimal('11451200')),\n",
       " ('E', Decimal('5497025')),\n",
       " ('D', Decimal('10029475')),\n",
       " ('G', Decimal('363575')))"
      ]
     },
     "execution_count": 70,
     "metadata": {},
     "output_type": "execute_result"
    }
   ],
   "source": [
    "#mySQLdb query to return the same albeit from our smaller accepted_df dataset\n",
    "c.execute(\"\"\"SELECT grade, sum(loan_amnt) FROM lendingclub3 group by grade\"\"\")\n",
    "c.fetchall()"
   ]
  },
  {
   "cell_type": "code",
   "execution_count": 113,
   "metadata": {},
   "outputs": [],
   "source": [
    "eda4 = accepted_df.groupby(['addr_state','grade']).agg({'int_rate':'mean'}).reset_index()\n",
    "with open('eda4.pickle','wb') as eda4_file:\n",
    "    pickle.dump(eda4, eda4_file)"
   ]
  },
  {
   "cell_type": "code",
   "execution_count": 68,
   "metadata": {},
   "outputs": [
    {
     "data": {
      "text/plain": [
       "(('C', 13.321387283236923),\n",
       " ('B', 9.974026377036388),\n",
       " ('F', 23.39863157894738),\n",
       " ('A', 6.832931677018545),\n",
       " ('E', 19.921176470588176),\n",
       " ('D', 16.993101045296278),\n",
       " ('G', 27.628888888888895))"
      ]
     },
     "execution_count": 68,
     "metadata": {},
     "output_type": "execute_result"
    }
   ],
   "source": [
    "#mySQLdb query to return the same albeit from our smaller accepted_df dataset\n",
    "c.execute(\"\"\"SELECT grade, avg(int_rate) FROM lendingclub3 group by grade\"\"\")\n",
    "c.fetchall()"
   ]
  },
  {
   "cell_type": "code",
   "execution_count": null,
   "metadata": {
    "scrolled": true
   },
   "outputs": [],
   "source": [
    "eda5 = accepted_df.groupby(['addr_state','last_fico_range_high']).agg({'loan_status':'mean','int_rate':'mean'}).reset_index()\n",
    "eda5"
   ]
  },
  {
   "cell_type": "code",
   "execution_count": null,
   "metadata": {},
   "outputs": [],
   "source": [
    "#mySQLdb query to return the same albeit from our smaller accepted_df dataset\n",
    "c.execute(\"\"\"SELECT last_fico_range_high, avg(int_rate) FROM lendingclub3 group by last_fico_range_high\"\"\")\n",
    "c.fetchall()"
   ]
  },
  {
   "cell_type": "code",
   "execution_count": 147,
   "metadata": {},
   "outputs": [],
   "source": [
    "with open('eda5.pickle','wb') as eda5_file:\n",
    "    pickle.dump(eda5, eda5_file)"
   ]
  },
  {
   "cell_type": "code",
   "execution_count": 22,
   "metadata": {
    "scrolled": true
   },
   "outputs": [],
   "source": [
    "#pickling this addr_state groupby dataframe\n",
    "with open('eda2.pickle', 'wb') as eda2_file:\n",
    "    pickle.dump(eda2, eda2_file)"
   ]
  },
  {
   "cell_type": "code",
   "execution_count": 13,
   "metadata": {},
   "outputs": [
    {
     "name": "stdout",
     "output_type": "stream",
     "text": [
      "82\n",
      "9\n"
     ]
    }
   ],
   "source": [
    "#creating list of all numeric variable names\n",
    "num_feat2 = []\n",
    "for x in accepted_df.columns.values:\n",
    "    if accepted_df[x].dtype == 'int64' or accepted_df[x].dtype == 'float64':\n",
    "        num_feat2.append(x)\n",
    "    else:\n",
    "        continue\n",
    "\n",
    "print(len(num_feat2))\n",
    "\n",
    "#creating list of all categorical variable names\n",
    "cat_feat = []\n",
    "for var in accepted_df.columns:\n",
    "    if accepted_df[var].dtype == 'O':\n",
    "        cat_feat.append(var)\n",
    "    else:\n",
    "        continue\n",
    "        \n",
    "print(len(cat_feat))"
   ]
  },
  {
   "cell_type": "code",
   "execution_count": 14,
   "metadata": {},
   "outputs": [
    {
     "name": "stdout",
     "output_type": "stream",
     "text": [
      "Num Features 9\n",
      "Num combinations 36\n",
      "(('grade', 'sub_grade'), 1.0)\n"
     ]
    }
   ],
   "source": [
    "#addressing multicollinearity in categorical variables\n",
    "#dropping categorical variables that are highly correlated with one another\n",
    "cat_feat = []\n",
    "for var in accepted_df.columns:\n",
    "    if accepted_df[var].dtype == 'O' and var != 'loan_status':\n",
    "        cat_feat.append(var)\n",
    "    else:\n",
    "        continue\n",
    "print('Num Features',len(cat_feat))\n",
    "try:\n",
    "    cat_feat.remove(0)\n",
    "except:\n",
    "    pass\n",
    "    \n",
    "comb_cat_feat = list(combinations(cat_feat, 2))\n",
    "print('Num combinations',len(comb_cat_feat))\n",
    "\n",
    "corrdict2 = defaultdict(int)\n",
    "for comb in comb_cat_feat:\n",
    "    table = pd.pivot_table(accepted_df, values='loan_amnt', index=comb[0], columns=comb[1], aggfunc='count').fillna(0)\n",
    "    corr = np.sqrt(chi2_contingency(table)[0] / (table.values.sum() * (np.min(table.shape) - 1) ) )\n",
    "    corrdict2[comb] = np.abs(corr)\n",
    "corrdict2\n",
    "\n",
    "#creating function to drop first feature in highly correlated categorical feature pairs \n",
    "#for value = 0.85, we are just dropping grade feature\n",
    "def drop_corr_cat(value):\n",
    "    for x in list(filter(lambda x: x[1] > value, corrdict2.items())):\n",
    "        try:\n",
    "            accepted_df.drop([x[0][0]], axis = 1, inplace = True)\n",
    "            print(x)\n",
    "        except:\n",
    "            continue\n",
    "drop_corr_cat(0.85)"
   ]
  },
  {
   "cell_type": "code",
   "execution_count": null,
   "metadata": {},
   "outputs": [],
   "source": [
    "#exploring pairs of highly correlated numeric variables\n",
    "comb_num_feat = list(combinations(num_feat2, 2))\n",
    "corrdict = defaultdict(int)\n",
    "for comb in comb_num_feat:\n",
    "    try:\n",
    "        corr = accepted_df[comb[0]].corr(accepted_df[comb[1]])\n",
    "        corrdict[comb] = abs(corr)\n",
    "    except:\n",
    "        continue\n",
    "print_full(corrdict)\n",
    "\n",
    "#addressing multicollinearity in numeric variables\n",
    "#dropping numeric variables that are highly correlated with one another\n",
    "vars = ['']\n",
    "def variable_drop(corrdict, value):\n",
    "    filtered_dict = dict(filter(lambda x: x[1] > value, corrdict.items()))\n",
    "    dropped_variables = []\n",
    "    var1 = ['loan_amnt','loan_status']\n",
    "    for k,v in filtered_dict.items():\n",
    "        if k[0] not in var1:\n",
    "            try:\n",
    "                accepted_df.drop(k[0], axis = 1, inplace = True)\n",
    "                print('Highly correlated pair:',k,v)\n",
    "                dropped_variables.append(k[0])\n",
    "            except:\n",
    "                print('Next')\n",
    "                continue\n",
    "        else:\n",
    "            continue\n",
    "    print(dropped_variables)\n",
    "variable_drop(corrdict, 0.85)"
   ]
  },
  {
   "cell_type": "code",
   "execution_count": 16,
   "metadata": {},
   "outputs": [],
   "source": [
    "#filling missing values in additional variables\n",
    "accepted_df['pct_tl_nvr_dlq'] = accepted_df['pct_tl_nvr_dlq'].fillna(accepted_df['pct_tl_nvr_dlq'].mean())\n",
    "accepted_df['mo_sin_old_rev_tl_op'] = accepted_df['mo_sin_old_rev_tl_op'].fillna(accepted_df['mo_sin_old_rev_tl_op'].mean())\n",
    "accepted_df['mort_acc'] = accepted_df['mort_acc'].fillna(accepted_df['mort_acc'].mean())\n",
    "accepted_df['emp_length'] = accepted_df['emp_length'].fillna(accepted_df['emp_length'].mean())"
   ]
  },
  {
   "cell_type": "code",
   "execution_count": 17,
   "metadata": {
    "scrolled": false
   },
   "outputs": [],
   "source": [
    "#creating train and test datasets\n",
    "\n",
    "#targetdf is all 2018 data \n",
    "targetdf = accepted_df[accepted_df['Year'] == 2018]\n",
    "\n",
    "#traindf is all non-2018 data\n",
    "traindf = accepted_df[accepted_df['Year'] != 2018]"
   ]
  },
  {
   "cell_type": "code",
   "execution_count": 18,
   "metadata": {},
   "outputs": [
    {
     "name": "stderr",
     "output_type": "stream",
     "text": [
      "/Users/philippeheitzmann/opt/anaconda3/lib/python3.7/site-packages/pandas/core/frame.py:4164: SettingWithCopyWarning: \n",
      "A value is trying to be set on a copy of a slice from a DataFrame\n",
      "\n",
      "See the caveats in the documentation: https://pandas.pydata.org/pandas-docs/stable/user_guide/indexing.html#returning-a-view-versus-a-copy\n",
      "  errors=errors,\n"
     ]
    }
   ],
   "source": [
    "#dropping additional variables that may cause data leakage \n",
    "targetdf.drop(['Year'], axis = 1, inplace = True)\n",
    "traindf.drop(['Year'], axis = 1, inplace = True)\n",
    "\n",
    "traindf.drop(['out_prncp_inv'], axis = 1, inplace = True)\n",
    "traindf.drop(['last_pymnt_amnt'], axis = 1, inplace = True)\n",
    "traindf.drop(['total_rec_int'], axis = 1, inplace = True)\n",
    "traindf.drop(['total_rec_late_fee'], axis = 1, inplace = True)\n",
    "traindf.drop(['total_rec_prncp'], axis = 1, inplace = True)\n",
    "\n",
    "targetdf.drop(['out_prncp_inv'], axis = 1, inplace = True)\n",
    "targetdf.drop(['last_pymnt_amnt'], axis = 1, inplace = True)\n",
    "targetdf.drop(['total_rec_int'], axis = 1, inplace = True)\n",
    "targetdf.drop(['total_rec_late_fee'], axis = 1, inplace = True)\n",
    "targetdf.drop(['total_rec_prncp'], axis = 1, inplace = True)"
   ]
  },
  {
   "cell_type": "code",
   "execution_count": 19,
   "metadata": {},
   "outputs": [],
   "source": [
    "#creating list of all categorical variable names\n",
    "cat_feat = []\n",
    "for var in accepted_df.columns:\n",
    "    if var != 'loan_status' and accepted_df[var].dtype == 'O':\n",
    "        cat_feat.append(var)\n",
    "    else:\n",
    "        continue\n"
   ]
  },
  {
   "cell_type": "code",
   "execution_count": 20,
   "metadata": {},
   "outputs": [],
   "source": [
    "#creating x and y data for training data\n",
    "train_target = traindf['loan_status'][:]\n",
    "train_data = traindf.drop(['loan_status'], axis = 1)\n",
    "#creating x and y data for 2018 target data \n",
    "test_target = targetdf['loan_status'][:]\n",
    "test_data = targetdf.drop(['loan_status'], axis = 1)"
   ]
  },
  {
   "cell_type": "code",
   "execution_count": 21,
   "metadata": {},
   "outputs": [],
   "source": [
    "#getting indices of categorical variables\n",
    "cat_feat_ind = [train_data.columns.get_loc(c) for c in cat_feat]"
   ]
  },
  {
   "cell_type": "code",
   "execution_count": null,
   "metadata": {
    "scrolled": true
   },
   "outputs": [],
   "source": [
    "#ANALYSIS\n",
    "#CATBOOST\n",
    "#read up about catboost when preparing for interviews \n",
    "from sklearn.model_selection import train_test_split\n",
    "from catboost import CatBoostClassifier, Pool\n",
    "from sklearn.metrics import confusion_matrix\n",
    "x_train, x_test, y_train, y_test = train_test_split(train_data, train_target, stratify = train_target, \n",
    "                                                    random_state = 0)\n",
    "x_train, x_val, y_train, y_val = train_test_split(x_train, y_train, stratify = y_train, \n",
    "                                                    random_state = 0)\n",
    "num = y_train.value_counts()\n",
    "pool_train = Pool(x_train, y_train, cat_features = cat_feat_ind)\n",
    "pool_test = Pool(x_test, y_test, cat_features = cat_feat_ind)\n",
    "pool_val = Pool(x_val, y_val, cat_features = cat_feat_ind)\n",
    "pool_2018 = Pool(test_data, test_target, cat_features = cat_feat_ind)\n",
    "\n",
    "cat1 = CatBoostClassifier(learning_rate = 0.05,\n",
    "                          iterations = 1000,\n",
    "                          early_stopping_rounds=100,\n",
    "                          class_weights = [1, num[0]/num[1]])\n",
    "\n",
    "cat1.fit(pool_train, eval_set=pool_val, plot=True)"
   ]
  },
  {
   "cell_type": "code",
   "execution_count": null,
   "metadata": {},
   "outputs": [],
   "source": [
    "#attempting to pickle our pool_2018 data \n",
    "\n",
    "with open('pool_data.pickle','wb') as pool_data_file:\n",
    "     pickle.dump(pool_2018, pool_data_file)"
   ]
  },
  {
   "cell_type": "code",
   "execution_count": 24,
   "metadata": {},
   "outputs": [],
   "source": [
    "#attempting to pickle model\n",
    "import pickle\n",
    "\n",
    "with open('fitted_cat1_model.pickle','wb') as modelFile:\n",
    "     pickle.dump(cat1,modelFile)"
   ]
  },
  {
   "cell_type": "code",
   "execution_count": 29,
   "metadata": {},
   "outputs": [
    {
     "data": {
      "image/png": "[encoded data removed]",
      "text/plain": [
       "<Figure size 432x288 with 2 Axes>"
      ]
     },
     "metadata": {
      "needs_background": "light"
     },
     "output_type": "display_data"
    }
   ],
   "source": [
    "#predicting 2018 data\n",
    "predictions = cat1.predict(pool_2018)\n",
    "cm = confusion_matrix(test_target, predictions)\n",
    "import seaborn as sns\n",
    "ax = sns.heatmap(cm, cmap='viridis_r', annot=True, fmt='d', square=True)\n",
    "ax.set_title('Predicting 2018 data')\n",
    "ax.set_xlabel('Predicted')\n",
    "ax.set_ylabel('True');"
   ]
  },
  {
   "cell_type": "code",
   "execution_count": 45,
   "metadata": {},
   "outputs": [
    {
     "data": {
      "image/png": "[encoded data removed]",
      "text/plain": [
       "<Figure size 432x288 with 2 Axes>"
      ]
     },
     "metadata": {
      "needs_background": "light"
     },
     "output_type": "display_data"
    }
   ],
   "source": [
    "#predicting 2018 data using just test_data dataframe\n",
    "predictions = cat1.predict(test_data)\n",
    "cm = confusion_matrix(test_target, predictions)\n",
    "import seaborn as sns\n",
    "ax = sns.heatmap(cm, cmap='viridis_r', annot=True, fmt='d', square=True)\n",
    "ax.set_title('Predicting 2018 test_data')\n",
    "ax.set_xlabel('Predicted')\n",
    "ax.set_ylabel('True');"
   ]
  },
  {
   "cell_type": "code",
   "execution_count": 32,
   "metadata": {},
   "outputs": [
    {
     "data": {
      "text/plain": [
       "0.841246677752457"
      ]
     },
     "execution_count": 32,
     "metadata": {},
     "output_type": "execute_result"
    }
   ],
   "source": [
    "#computing ROC-AUC score for Catboost on 2018 data \n",
    "\n",
    "roc_auc_score(test_target, predictions)"
   ]
  },
  {
   "cell_type": "code",
   "execution_count": 34,
   "metadata": {},
   "outputs": [
    {
     "data": {
      "image/png": "[encoded data removed]",
      "text/plain": [
       "<Figure size 432x288 with 2 Axes>"
      ]
     },
     "metadata": {
      "needs_background": "light"
     },
     "output_type": "display_data"
    }
   ],
   "source": [
    "#predicting <2018 test data that model hasn't seen yet\n",
    "predictions2 = cat1.predict(pool_test)\n",
    "cm1 = confusion_matrix(y_test, predictions2)\n",
    "import seaborn as sns\n",
    "ax = sns.heatmap(cm1, cmap='viridis_r', annot=True, fmt='d', square=True)\n",
    "ax.set_title('Predicting non-2018 test data')\n",
    "ax.set_xlabel('Predicted')\n",
    "ax.set_ylabel('True');"
   ]
  },
  {
   "cell_type": "code",
   "execution_count": 32,
   "metadata": {},
   "outputs": [
    {
     "name": "stdout",
     "output_type": "stream",
     "text": [
      "Accuracy Score of %0.9632\n",
      "Precision Score of %0.9891\n",
      "Recall Score of %0.9726\n"
     ]
    }
   ],
   "source": [
    "#accuracy, precision and recall scores of CatBoost predictions on the 2018 data\n",
    "\n",
    "from sklearn.metrics import accuracy_score\n",
    "from sklearn.metrics import precision_score\n",
    "from sklearn.metrics import recall_score\n",
    "ac1 = accuracy_score(test_target, predictions)\n",
    "#since false positive are more harmful than false negatives, precision_score is the most important metric to track here\n",
    "pr1 = precision_score(test_target, predictions)\n",
    "re1 = recall_score(test_target, predictions)\n",
    "print('Accuracy Score of %{:.4f}'.format(ac1))\n",
    "print('Precision Score of %{:.4f}'.format(pr1))\n",
    "print('Recall Score of %{:.4f}'.format(re1))"
   ]
  },
  {
   "cell_type": "code",
   "execution_count": 33,
   "metadata": {},
   "outputs": [
    {
     "name": "stdout",
     "output_type": "stream",
     "text": [
      "Accuracy Score of %0.8815\n",
      "Precision Score of %0.9808\n",
      "Recall Score of %0.8765\n"
     ]
    }
   ],
   "source": [
    "#accuracy, precision and recall scores of CatBoost predictions on the non-2018 data\n",
    "\n",
    "ac2 = accuracy_score(y_test, predictions2)\n",
    "#since false positive are more harmful than false negatives, precision_score is the most important metric to track here\n",
    "pr2 = precision_score(y_test, predictions2)\n",
    "re2 = recall_score(y_test, predictions2)\n",
    "print('Accuracy Score of %{:.4f}'.format(ac2))\n",
    "print('Precision Score of %{:.4f}'.format(pr2))\n",
    "print('Recall Score of %{:.4f}'.format(re2))"
   ]
  },
  {
   "cell_type": "code",
   "execution_count": 35,
   "metadata": {},
   "outputs": [
    {
     "data": {
      "text/plain": [
       "0.8923923011327715"
      ]
     },
     "execution_count": 35,
     "metadata": {},
     "output_type": "execute_result"
    }
   ],
   "source": [
    "#roc_auc_score of Catboost on the non-2018 data \n",
    "roc_auc_score(y_test, predictions2)"
   ]
  },
  {
   "cell_type": "code",
   "execution_count": null,
   "metadata": {},
   "outputs": [],
   "source": [
    "#looking at feature importances of CatBoostClassifier model\n",
    "\n",
    "cat_coefficients = pd.DataFrame(cat1.feature_importances_.reshape(-1))\n",
    "column_names = pd.DataFrame(x_train_lg.columns.values)\n",
    "cat_feat_imp = pd.concat([cat_coefficients, column_names], axis = 1)\n",
    "cat_feat_imp.columns = ['Importance','Feature_Name']\n",
    "print_full(cat_feat_imp.sort_values(by='Importance', ascending = False))"
   ]
  },
  {
   "cell_type": "code",
   "execution_count": null,
   "metadata": {},
   "outputs": [],
   "source": [
    "#taking the top CatBoostClassifier open_il_12m and annual_inc features and retraining another model \n",
    "#to then 3D visualize probability estimation \n",
    "\n",
    "#creating data with just our two features \n",
    "train_data_2feat = train_data.loc[:,['open_il_12m','annual_inc']]\n",
    "\n",
    "#creating new train, val and test sets \n",
    "x_train_2feat, x_test_2feat, y_train_2feat, y_test_2feat = train_test_split(train_data_2feat, train_target, stratify = train_target, \n",
    "                                                    random_state = 0)\n",
    "x_train_2feat, x_val_2feat, y_train_2feat, y_val_2feat = train_test_split(x_train_2feat, y_train_2feat, stratify = y_train_2feat, \n",
    "                                                    random_state = 0)\n",
    "num1 = y_train.value_counts()\n",
    "pool_train_2feat = Pool(x_train_2feat, y_train_2feat)\n",
    "pool_test_2feat = Pool(x_test_2feat, y_test_2feat)\n",
    "pool_val_2feat = Pool(x_val_2feat, y_val_2feat)\n",
    "\n",
    "cat2feat = CatBoostClassifier(learning_rate = 0.05,\n",
    "                          iterations = 1000,\n",
    "                          early_stopping_rounds=100,\n",
    "                          class_weights = [1, num[0]/num[1]])\n",
    "\n",
    "cat2feat.fit(pool_train_2feat, eval_set=pool_val_2feat, plot=True)"
   ]
  },
  {
   "cell_type": "code",
   "execution_count": 160,
   "metadata": {},
   "outputs": [
    {
     "data": {
      "image/png": "[encoded data removed]",
      "text/plain": [
       "<Figure size 864x720 with 2 Axes>"
      ]
     },
     "metadata": {
      "needs_background": "light"
     },
     "output_type": "display_data"
    }
   ],
   "source": [
    "#creating 3D graphic view of open_il_12m vs annual_inc variables\n",
    "\n",
    "from mpl_toolkits.mplot3d import Axes3D\n",
    "from matplotlib import cm\n",
    "from matplotlib.ticker import LinearLocator, FormatStrFormatter\n",
    "plt.rcParams['figure.figsize'] = (12,10)\n",
    "fig = plt.figure()\n",
    "ax = fig.gca(projection='3d')\n",
    "\n",
    "# Make data.\n",
    "A = np.linspace(0,25,100)\n",
    "B = np.linspace(0,350000,100)\n",
    "A, B = np.meshgrid(A, B)\n",
    "\n",
    "C = cat1.predict_proba(np.transpose(np.array([A.flatten(), B.flatten()])))[:,0].reshape((100,100))\n",
    "# Plot the surface.\n",
    "surf = ax.plot_surface(A, B, C, cmap=cm.coolwarm,\n",
    "                       linewidth=0, antialiased=False)\n",
    "\n",
    "# Customize the z axis.\n",
    "ax.zaxis.set_major_locator(LinearLocator(10))\n",
    "ax.zaxis.set_major_formatter(FormatStrFormatter('%.02f'))\n",
    "\n",
    "# Add a color bar which maps values to colors.\n",
    "fig.colorbar(surf, shrink=0.5, aspect=5)\n",
    "plt.title(r'CatBoostClassifier ovr class 0 prob estimation')\n",
    "plt.xlabel('il_open_12m')\n",
    "plt.ylabel('annual_inc')\n",
    "plt.show()"
   ]
  },
  {
   "cell_type": "code",
   "execution_count": 162,
   "metadata": {},
   "outputs": [
    {
     "name": "stdout",
     "output_type": "stream",
     "text": [
      "2-feat Catboost Classifier model Accuracy Score of %0.5397\n",
      "2-feat Catboost Classifier model Precision Score of %0.8715\n",
      "2-feat Catboost Classifier model Recall Score of %0.5323\n"
     ]
    }
   ],
   "source": [
    "#predictions using 2-feat Catboost Classifier model \n",
    "cat_2feat_predictions = cat2feat.predict(x_test_2feat)\n",
    "\n",
    "ac_2feat = accuracy_score(y_test_2feat, cat_2feat_predictions)\n",
    "#since false positive are more harmful than false negatives, precision_score is the most important metric to track here\n",
    "pr_2feat = precision_score(y_test_2feat, cat_2feat_predictions)\n",
    "re_2feat = recall_score(y_test_2feat, cat_2feat_predictions)\n",
    "print('2-feat Catboost Classifier model Accuracy Score of %{:.4f}'.format(ac_2feat))\n",
    "print('2-feat Catboost Classifier model Precision Score of %{:.4f}'.format(pr_2feat))\n",
    "print('2-feat Catboost Classifier model Recall Score of %{:.4f}'.format(re_2feat))"
   ]
  },
  {
   "cell_type": "code",
   "execution_count": null,
   "metadata": {},
   "outputs": [],
   "source": []
  },
  {
   "cell_type": "code",
   "execution_count": 23,
   "metadata": {},
   "outputs": [
    {
     "name": "stderr",
     "output_type": "stream",
     "text": [
      "/Users/philippeheitzmann/opt/anaconda3/lib/python3.7/site-packages/pandas/core/frame.py:4164: SettingWithCopyWarning: \n",
      "A value is trying to be set on a copy of a slice from a DataFrame\n",
      "\n",
      "See the caveats in the documentation: https://pandas.pydata.org/pandas-docs/stable/user_guide/indexing.html#returning-a-view-versus-a-copy\n",
      "  errors=errors,\n"
     ]
    }
   ],
   "source": [
    "#Merging our data to do logistic regression\n",
    "re_merged = pd.concat([train_data, test_data], axis = 0)\n",
    "re_merged = pd.get_dummies(re_merged, drop_first = True)\n",
    "re_merged.earliest_credit_line_years = re_merged.earliest_credit_line_years.dt.days\n",
    "\n",
    "re_merged['Year'] = pd.DatetimeIndex(re_merged['issue_d_date']).year\n",
    "re_merged.drop(['earliest_cr_line_date','issue_d_date'], axis = 1, inplace = True)\n",
    "#train data is all non-2018 data\n",
    "traindf2 = re_merged[re_merged['Year'] != 2018]\n",
    "#target data is all 2018 data \n",
    "targetdf2 = re_merged[re_merged['Year'] == 2018]\n",
    "targetdf2.drop(['Year'], axis = 1, inplace = True)\n",
    "traindf2.drop(['Year'], axis = 1, inplace = True)"
   ]
  },
  {
   "cell_type": "code",
   "execution_count": 38,
   "metadata": {},
   "outputs": [],
   "source": [
    "#traindf2 is non-2018 data, train_target is non-2018 data \n",
    "\n",
    "x_train_lg, x_test_lg, y_train_lg, y_test_lg = train_test_split(traindf2, train_target, random_state = 0,\n",
    "                                                               test_size = 0.33)"
   ]
  },
  {
   "cell_type": "code",
   "execution_count": 127,
   "metadata": {},
   "outputs": [],
   "source": [
    "#training a Logistic Regression model on the data\n",
    "from sklearn.model_selection import RepeatedStratifiedKFold, StratifiedKFold\n",
    "\n",
    "class_weight = {1:1, 0:np.round(y_train_lg.value_counts()[1]/y_train_lg.value_counts()[0],2)}\n",
    "\n",
    "lg1 = LogisticRegression(solver = 'saga', class_weight = {1:1,0:5.36},\n",
    "                        max_iter = 300, C = 1e3, n_jobs = -1)\n",
    "# cv = RepeatedStratifiedKFold(n_splits=3, n_repeats=3, random_state=1)\n",
    "# cv = StratifiedKFold(n_splits = 3, random_state = 1)\n",
    "# scores_lg = cross_val_score(lg1, x_train_lg, y_train_lg, scoring='roc_auc', cv=cv, n_jobs=-1)\n",
    "# print('Mean ROC AUC for Logit Regression: %.3f' % np.mean(scores_lg))"
   ]
  },
  {
   "cell_type": "code",
   "execution_count": 128,
   "metadata": {
    "scrolled": true
   },
   "outputs": [
    {
     "name": "stderr",
     "output_type": "stream",
     "text": [
      "/Users/philippeheitzmann/opt/anaconda3/lib/python3.7/site-packages/sklearn/linear_model/_sag.py:330: ConvergenceWarning: The max_iter was reached which means the coef_ did not converge\n",
      "  \"the coef_ did not converge\", ConvergenceWarning)\n"
     ]
    }
   ],
   "source": [
    "#fitting and predicting our Logistic Regression model\n",
    "lg1.fit(x_train_lg, y_train_lg)\n",
    "lg1predictions = lg1.predict(x_test_lg)"
   ]
  },
  {
   "cell_type": "code",
   "execution_count": 130,
   "metadata": {},
   "outputs": [
    {
     "data": {
      "text/plain": [
       "0.5827488773029093"
      ]
     },
     "execution_count": 130,
     "metadata": {},
     "output_type": "execute_result"
    }
   ],
   "source": [
    "#getting Logistic Regression ROC_AUC score for the non-2018 data\n",
    "roc_auc_score(y_test_lg, lg1predictions)"
   ]
  },
  {
   "cell_type": "code",
   "execution_count": 143,
   "metadata": {},
   "outputs": [
    {
     "data": {
      "text/plain": [
       "0.5631836143417641"
      ]
     },
     "execution_count": 143,
     "metadata": {},
     "output_type": "execute_result"
    }
   ],
   "source": [
    "#getting Logistic Regression ROC_AUC score for the 2018 data\n",
    "\n",
    "lg1prediction_2018 = lg1.predict(targetdf2)\n",
    "roc_auc_score(test_target, lg1prediction_2018)"
   ]
  },
  {
   "cell_type": "code",
   "execution_count": 30,
   "metadata": {},
   "outputs": [],
   "source": [
    "#pickling our lg1 model\n",
    "\n",
    "with open('lg1.pickle','wb') as lg1_path:\n",
    "    pickle.dump(lg1, lg1_path)"
   ]
  },
  {
   "cell_type": "code",
   "execution_count": 43,
   "metadata": {},
   "outputs": [
    {
     "data": {
      "image/png": "[encoded data removed]",
      "text/plain": [
       "<Figure size 432x288 with 2 Axes>"
      ]
     },
     "metadata": {
      "needs_background": "light"
     },
     "output_type": "display_data"
    }
   ],
   "source": [
    "#visualizing the confusion matrix for Logistic Regression model\n",
    "import seaborn as sns\n",
    "cm2 = confusion_matrix(y_test_lg, lg1predictions)\n",
    "ax = sns.heatmap(cm2, cmap='viridis_r', annot=True, fmt='d', square=True)\n",
    "ax.set_title('Logit predicting 2018 test data')\n",
    "ax.set_xlabel('Predicted')\n",
    "ax.set_ylabel('True');"
   ]
  },
  {
   "cell_type": "code",
   "execution_count": 62,
   "metadata": {},
   "outputs": [
    {
     "name": "stdout",
     "output_type": "stream",
     "text": [
      "Logit Accuracy Score of %0.5581\n",
      "Logit Precision Score of %0.8801\n",
      "Logit Recall Score of %0.5500\n"
     ]
    }
   ],
   "source": [
    "#accuracy, precision and recall scores of logit predictions on the non-2018 data\n",
    "\n",
    "ac3 = accuracy_score(y_test_lg, lg1predictions)\n",
    "#since false positive are more harmful than false negatives, precision_score is the most important metric to track here\n",
    "pr3 = precision_score(y_test_lg, lg1predictions)\n",
    "re3 = recall_score(y_test_lg, lg1predictions)\n",
    "print('Logit Accuracy Score of %{:.4f}'.format(ac3))\n",
    "print('Logit Precision Score of %{:.4f}'.format(pr3))\n",
    "print('Logit Recall Score of %{:.4f}'.format(re3))"
   ]
  },
  {
   "cell_type": "code",
   "execution_count": 28,
   "metadata": {},
   "outputs": [
    {
     "data": {
      "text/plain": [
       "0.5754776034456511"
      ]
     },
     "execution_count": 28,
     "metadata": {},
     "output_type": "execute_result"
    }
   ],
   "source": [
    "#computing ROC-AUC score for Logit\n",
    "\n",
    "from sklearn.metrics import roc_auc_score\n",
    "roc_auc_score(y_test_lg, lg1predictions)"
   ]
  },
  {
   "cell_type": "code",
   "execution_count": 122,
   "metadata": {},
   "outputs": [],
   "source": [
    "#viewing most important Logistic Regression features \n",
    "\n",
    "lg_coefficients = pd.DataFrame(lg1.coef_.reshape(-1))\n",
    "column_names = pd.DataFrame(x_train_lg.columns.values)\n",
    "lg_feat_imp = pd.concat([lg_coefficients, column_names], axis = 1)\n",
    "lg_feat_imp.columns = ['Importance', 'Feature_Name']"
   ]
  },
  {
   "cell_type": "code",
   "execution_count": null,
   "metadata": {
    "scrolled": false
   },
   "outputs": [],
   "source": [
    "lg_feat_imp"
   ]
  },
  {
   "cell_type": "code",
   "execution_count": null,
   "metadata": {
    "scrolled": false
   },
   "outputs": [],
   "source": [
    "print_full(lg_feat_imp.sort_values(by = 'Importance'))"
   ]
  },
  {
   "cell_type": "code",
   "execution_count": null,
   "metadata": {},
   "outputs": [],
   "source": [
    "#using Recursive Feature Elimination with Logistic Regression\n",
    "\n",
    "from sklearn.feature_selection import RFE\n",
    "rfe = RFE(estimator=lg1)\n",
    "rfe = rfe.fit(x_train_lg, y_train_lg)"
   ]
  },
  {
   "cell_type": "code",
   "execution_count": 36,
   "metadata": {},
   "outputs": [
    {
     "name": "stderr",
     "output_type": "stream",
     "text": [
      "/Users/philippeheitzmann/opt/anaconda3/lib/python3.7/site-packages/sklearn/discriminant_analysis.py:715: UserWarning: Variables are collinear\n",
      "  warnings.warn(\"Variables are collinear\")\n"
     ]
    },
    {
     "data": {
      "text/plain": [
       "QuadraticDiscriminantAnalysis(store_covariance=True)"
      ]
     },
     "execution_count": 36,
     "metadata": {},
     "output_type": "execute_result"
    }
   ],
   "source": [
    "#NAIVE BAYES\n",
    "\n",
    "#Quadratic Discriminant Analysis (QDA)\n",
    "QDA = discriminant_analysis.QuadraticDiscriminantAnalysis(store_covariance=True)\n",
    "QDA.fit(x_train_lg, y_train_lg)\n"
   ]
  },
  {
   "cell_type": "code",
   "execution_count": 37,
   "metadata": {},
   "outputs": [],
   "source": [
    "#fitting and predicting with our QDA model\n",
    "qdapredictions = QDA.predict(x_test_lg)"
   ]
  },
  {
   "cell_type": "code",
   "execution_count": 124,
   "metadata": {},
   "outputs": [
    {
     "data": {
      "text/plain": [
       "0.6159814198742477"
      ]
     },
     "execution_count": 124,
     "metadata": {},
     "output_type": "execute_result"
    }
   ],
   "source": [
    "#computing roc_auc_score of qda model \n",
    "\n",
    "roc_auc_score(y_test_lg, qdapredictions)"
   ]
  },
  {
   "cell_type": "code",
   "execution_count": 144,
   "metadata": {},
   "outputs": [
    {
     "data": {
      "text/plain": [
       "0.6407706836078056"
      ]
     },
     "execution_count": 144,
     "metadata": {},
     "output_type": "execute_result"
    }
   ],
   "source": [
    "#getting QDA ROC_AUC score for the 2018 data\n",
    "\n",
    "qda_prediction_2018 = QDA.predict(targetdf2)\n",
    "roc_auc_score(test_target, qda_prediction_2018)"
   ]
  },
  {
   "cell_type": "code",
   "execution_count": 165,
   "metadata": {},
   "outputs": [
    {
     "data": {
      "image/png": "[encoded data removed]",
      "text/plain": [
       "<Figure size 864x720 with 2 Axes>"
      ]
     },
     "metadata": {
      "needs_background": "light"
     },
     "output_type": "display_data"
    }
   ],
   "source": [
    "##visualizing the confusion matrix for QDA model\n",
    "cm5 = confusion_matrix(y_test_lg, qdapredictions)\n",
    "ax = sns.heatmap(cm5, cmap='viridis_r', annot=True, fmt='d', square=True)\n",
    "ax.set_title('QDA predicting 2018 test data')\n",
    "ax.set_xlabel('Predicted')\n",
    "ax.set_ylabel('True');"
   ]
  },
  {
   "cell_type": "code",
   "execution_count": 166,
   "metadata": {},
   "outputs": [
    {
     "name": "stdout",
     "output_type": "stream",
     "text": [
      "Logit Accuracy Score of %0.4072\n",
      "Logit Precision Score of %0.9546\n",
      "Logit Recall Score of %0.3108\n"
     ]
    }
   ],
   "source": [
    "#accuracy, precision and recall scores of QDA predictions on the non-2018 data\n",
    "\n",
    "ac5 = accuracy_score(y_test_lg, qdapredictions)\n",
    "#since false positive are more harmful than false negatives, precision_score is the most important metric to track here\n",
    "pr5 = precision_score(y_test_lg, qdapredictions)\n",
    "re5 = recall_score(y_test_lg, qdapredictions)\n",
    "print('QDA Accuracy Score of %{:.4f}'.format(ac5))\n",
    "print('QDA Precision Score of %{:.4f}'.format(pr5))\n",
    "print('QDA Recall Score of %{:.4f}'.format(re5))"
   ]
  },
  {
   "cell_type": "code",
   "execution_count": 38,
   "metadata": {},
   "outputs": [
    {
     "data": {
      "text/plain": [
       "0.6159814198742477"
      ]
     },
     "execution_count": 38,
     "metadata": {},
     "output_type": "execute_result"
    }
   ],
   "source": [
    "#roc_auc_score of our QDA model\n",
    "\n",
    "roc_auc_score(y_test_lg, qdapredictions)"
   ]
  },
  {
   "cell_type": "code",
   "execution_count": 119,
   "metadata": {},
   "outputs": [],
   "source": [
    "#pickling our qda model \n",
    "\n",
    "with open('qda_model.pickle', 'wb') as qda_model_file:\n",
    "    pickle.dump(QDA, qda_model_file)"
   ]
  },
  {
   "cell_type": "code",
   "execution_count": 167,
   "metadata": {},
   "outputs": [
    {
     "data": {
      "text/plain": [
       "(1154336, 172)"
      ]
     },
     "execution_count": 167,
     "metadata": {},
     "output_type": "execute_result"
    }
   ],
   "source": [
    "x_train_lg.shape"
   ]
  },
  {
   "cell_type": "code",
   "execution_count": 52,
   "metadata": {},
   "outputs": [],
   "source": [
    "#passing subset of our x_train_lg data for demonstrative purposes \n",
    "\n",
    "x_train_lg1 = x_train_lg.iloc[:1000,:]\n",
    "y_train_lg1 = y_train_lg[:1000]"
   ]
  },
  {
   "cell_type": "code",
   "execution_count": 56,
   "metadata": {},
   "outputs": [],
   "source": [
    "#creating same-shape dataframes for test data \n",
    "\n",
    "x_test_lg1 = x_test_lg.iloc[:1000,:]\n",
    "y_test_lg1 = y_test_lg[:1000]"
   ]
  },
  {
   "cell_type": "code",
   "execution_count": 172,
   "metadata": {
    "scrolled": true
   },
   "outputs": [
    {
     "data": {
      "text/plain": [
       "dtype('float64')"
      ]
     },
     "execution_count": 172,
     "metadata": {},
     "output_type": "execute_result"
    }
   ],
   "source": [
    "x_train_lg1.annual_inc.dtype"
   ]
  },
  {
   "cell_type": "code",
   "execution_count": 173,
   "metadata": {},
   "outputs": [
    {
     "data": {
      "text/html": [
       "<div>\n",
       "<style scoped>\n",
       "    .dataframe tbody tr th:only-of-type {\n",
       "        vertical-align: middle;\n",
       "    }\n",
       "\n",
       "    .dataframe tbody tr th {\n",
       "        vertical-align: top;\n",
       "    }\n",
       "\n",
       "    .dataframe thead th {\n",
       "        text-align: right;\n",
       "    }\n",
       "</style>\n",
       "<table border=\"1\" class=\"dataframe\">\n",
       "  <thead>\n",
       "    <tr style=\"text-align: right;\">\n",
       "      <th></th>\n",
       "      <th>loan_amnt</th>\n",
       "      <th>term</th>\n",
       "      <th>int_rate</th>\n",
       "      <th>installment</th>\n",
       "      <th>emp_length</th>\n",
       "      <th>annual_inc</th>\n",
       "      <th>dti</th>\n",
       "      <th>delinq_2yrs</th>\n",
       "      <th>fico_range_high</th>\n",
       "      <th>inq_last_6mths</th>\n",
       "      <th>...</th>\n",
       "      <th>addr_state_UT</th>\n",
       "      <th>addr_state_VA</th>\n",
       "      <th>addr_state_VT</th>\n",
       "      <th>addr_state_WA</th>\n",
       "      <th>addr_state_WI</th>\n",
       "      <th>addr_state_WV</th>\n",
       "      <th>addr_state_WY</th>\n",
       "      <th>initial_list_status_w</th>\n",
       "      <th>application_type_Joint</th>\n",
       "      <th>disbursement_method_DirectPay</th>\n",
       "    </tr>\n",
       "  </thead>\n",
       "  <tbody>\n",
       "    <tr>\n",
       "      <th>1041258</th>\n",
       "      <td>10000.0</td>\n",
       "      <td>36</td>\n",
       "      <td>16.29</td>\n",
       "      <td>353.01</td>\n",
       "      <td>11.0</td>\n",
       "      <td>80000.0</td>\n",
       "      <td>39.11</td>\n",
       "      <td>0.0</td>\n",
       "      <td>679.0</td>\n",
       "      <td>0.0</td>\n",
       "      <td>...</td>\n",
       "      <td>0</td>\n",
       "      <td>0</td>\n",
       "      <td>0</td>\n",
       "      <td>0</td>\n",
       "      <td>0</td>\n",
       "      <td>0</td>\n",
       "      <td>0</td>\n",
       "      <td>1</td>\n",
       "      <td>0</td>\n",
       "      <td>0</td>\n",
       "    </tr>\n",
       "    <tr>\n",
       "      <th>1708460</th>\n",
       "      <td>15400.0</td>\n",
       "      <td>36</td>\n",
       "      <td>14.99</td>\n",
       "      <td>533.78</td>\n",
       "      <td>6.0</td>\n",
       "      <td>35000.0</td>\n",
       "      <td>12.21</td>\n",
       "      <td>0.0</td>\n",
       "      <td>689.0</td>\n",
       "      <td>1.0</td>\n",
       "      <td>...</td>\n",
       "      <td>0</td>\n",
       "      <td>0</td>\n",
       "      <td>0</td>\n",
       "      <td>0</td>\n",
       "      <td>0</td>\n",
       "      <td>0</td>\n",
       "      <td>0</td>\n",
       "      <td>0</td>\n",
       "      <td>0</td>\n",
       "      <td>0</td>\n",
       "    </tr>\n",
       "    <tr>\n",
       "      <th>2057192</th>\n",
       "      <td>32000.0</td>\n",
       "      <td>60</td>\n",
       "      <td>20.00</td>\n",
       "      <td>847.81</td>\n",
       "      <td>11.0</td>\n",
       "      <td>74500.0</td>\n",
       "      <td>16.65</td>\n",
       "      <td>0.0</td>\n",
       "      <td>699.0</td>\n",
       "      <td>2.0</td>\n",
       "      <td>...</td>\n",
       "      <td>0</td>\n",
       "      <td>0</td>\n",
       "      <td>0</td>\n",
       "      <td>0</td>\n",
       "      <td>0</td>\n",
       "      <td>0</td>\n",
       "      <td>0</td>\n",
       "      <td>1</td>\n",
       "      <td>0</td>\n",
       "      <td>0</td>\n",
       "    </tr>\n",
       "  </tbody>\n",
       "</table>\n",
       "<p>3 rows × 172 columns</p>\n",
       "</div>"
      ],
      "text/plain": [
       "         loan_amnt  term  int_rate  installment  emp_length  annual_inc  \\\n",
       "1041258    10000.0    36     16.29       353.01        11.0     80000.0   \n",
       "1708460    15400.0    36     14.99       533.78         6.0     35000.0   \n",
       "2057192    32000.0    60     20.00       847.81        11.0     74500.0   \n",
       "\n",
       "           dti  delinq_2yrs  fico_range_high  inq_last_6mths  ...  \\\n",
       "1041258  39.11          0.0            679.0             0.0  ...   \n",
       "1708460  12.21          0.0            689.0             1.0  ...   \n",
       "2057192  16.65          0.0            699.0             2.0  ...   \n",
       "\n",
       "         addr_state_UT  addr_state_VA  addr_state_VT  addr_state_WA  \\\n",
       "1041258              0              0              0              0   \n",
       "1708460              0              0              0              0   \n",
       "2057192              0              0              0              0   \n",
       "\n",
       "         addr_state_WI  addr_state_WV  addr_state_WY  initial_list_status_w  \\\n",
       "1041258              0              0              0                      1   \n",
       "1708460              0              0              0                      0   \n",
       "2057192              0              0              0                      1   \n",
       "\n",
       "         application_type_Joint  disbursement_method_DirectPay  \n",
       "1041258                       0                              0  \n",
       "1708460                       0                              0  \n",
       "2057192                       0                              0  \n",
       "\n",
       "[3 rows x 172 columns]"
      ]
     },
     "execution_count": 173,
     "metadata": {},
     "output_type": "execute_result"
    }
   ],
   "source": [
    "x_train_lg1[:3]"
   ]
  },
  {
   "cell_type": "code",
   "execution_count": 181,
   "metadata": {
    "scrolled": true
   },
   "outputs": [
    {
     "data": {
      "text/plain": [
       "annual_inc    80000.0\n",
       "Name: 1041258, dtype: float64"
      ]
     },
     "execution_count": 181,
     "metadata": {},
     "output_type": "execute_result"
    }
   ],
   "source": [
    "g = x_train_lg1.loc[104125,['annual_inc']]\n",
    "g"
   ]
  },
  {
   "cell_type": "code",
   "execution_count": 64,
   "metadata": {},
   "outputs": [
    {
     "data": {
      "text/plain": [
       "((85000,),)"
      ]
     },
     "execution_count": 64,
     "metadata": {},
     "output_type": "execute_result"
    }
   ],
   "source": [
    "#mySQLdb query to return the same albeit from our smaller accepted_df dataset and a different id\n",
    "c.execute(\"\"\"SELECT annual_inc FROM lendingclub3 where id = %s\"\"\", ('67275481',))\n",
    "c.fetchall()"
   ]
  },
  {
   "cell_type": "code",
   "execution_count": 171,
   "metadata": {},
   "outputs": [],
   "source": [
    "#pickling our x_train_lg1 data\n",
    "\n",
    "with open('x_train_lg1.pickle', 'wb') as x_train_lg1_file:\n",
    "    pickle.dump(x_train_lg1, x_train_lg1_file)"
   ]
  },
  {
   "cell_type": "code",
   "execution_count": 70,
   "metadata": {},
   "outputs": [],
   "source": [
    "#pickling our y_train_lg1 data\n",
    "\n",
    "with open('y_train_lg1.pickle', 'wb') as y_train_lg1_file:\n",
    "    pickle.dump(y_train_lg1, y_train_lg1_file)"
   ]
  },
  {
   "cell_type": "code",
   "execution_count": 41,
   "metadata": {},
   "outputs": [
    {
     "data": {
      "text/plain": [
       "GaussianNB()"
      ]
     },
     "execution_count": 41,
     "metadata": {},
     "output_type": "execute_result"
    }
   ],
   "source": [
    "#implementing GaussianNB algorithm for classification \n",
    "gnb = naive_bayes.GaussianNB()\n",
    "\n",
    "gnb.fit(x_train_lg, y_train_lg)"
   ]
  },
  {
   "cell_type": "code",
   "execution_count": 147,
   "metadata": {},
   "outputs": [
    {
     "data": {
      "text/plain": [
       "0.745526726703416"
      ]
     },
     "execution_count": 147,
     "metadata": {},
     "output_type": "execute_result"
    }
   ],
   "source": [
    "#getting GaussianNB ROC_AUC score for the 2018 data\n",
    "\n",
    "gnb_prediction_2018 = gnb.predict(targetdf2)\n",
    "roc_auc_score(test_target, gnb_prediction_2018)"
   ]
  },
  {
   "cell_type": "code",
   "execution_count": 161,
   "metadata": {},
   "outputs": [
    {
     "data": {
      "text/plain": [
       "0.7905714601659427"
      ]
     },
     "execution_count": 161,
     "metadata": {},
     "output_type": "execute_result"
    }
   ],
   "source": [
    "#getting GaussianNB ROC_AUC score for the non-2018 data\n",
    "\n",
    "gnb_prediction_non2018 = gnb.predict(x_test_lg)\n",
    "roc_auc_score(y_test_lg, gnb_prediction_non2018)"
   ]
  },
  {
   "cell_type": "code",
   "execution_count": null,
   "metadata": {},
   "outputs": [],
   "source": [
    "#predicting our non-2018 data with fitted GaussianNB model and outputting confusion matrix \n",
    "\n",
    "predictions_gnb = gnb.predict(x_test_lg)\n",
    "cm6 = confusion_matrix(y_test_lg, predictions_gnb)"
   ]
  },
  {
   "cell_type": "code",
   "execution_count": 44,
   "metadata": {},
   "outputs": [
    {
     "data": {
      "image/png": "[encoded data removed]",
      "text/plain": [
       "<Figure size 432x288 with 2 Axes>"
      ]
     },
     "metadata": {
      "needs_background": "light"
     },
     "output_type": "display_data"
    }
   ],
   "source": [
    "ax = sns.heatmap(cm6, cmap='viridis_r', annot=True, fmt='d', square=True)\n",
    "ax.set_title('GaussianNB predicting 2018 test data')\n",
    "ax.set_xlabel('Predicted')\n",
    "ax.set_ylabel('True');"
   ]
  },
  {
   "cell_type": "code",
   "execution_count": 173,
   "metadata": {},
   "outputs": [
    {
     "name": "stdout",
     "output_type": "stream",
     "text": [
      "GaussianNB Accuracy Score of %0.7400\n",
      "GaussianNB Precision Score of %0.9657\n",
      "GaussianNB Recall Score of %0.7167\n"
     ]
    }
   ],
   "source": [
    "#accuracy, precision and recall scores of GNB predictions on the non-2018 data\n",
    "\n",
    "ac6 = accuracy_score(y_test_lg, predictions_gnb)\n",
    "#since false positive are more harmful than false negatives, precision_score is the most important metric to track here\n",
    "pr6 = precision_score(y_test_lg, predictions_gnb)\n",
    "re6 = recall_score(y_test_lg, predictions_gnb)\n",
    "print('GaussianNB Accuracy Score of %{:.4f}'.format(ac6))\n",
    "print('GaussianNB Precision Score of %{:.4f}'.format(pr6))\n",
    "print('GaussianNB Recall Score of %{:.4f}'.format(re6))"
   ]
  },
  {
   "cell_type": "code",
   "execution_count": 175,
   "metadata": {},
   "outputs": [
    {
     "name": "stdout",
     "output_type": "stream",
     "text": [
      "Object `sklearn.model_selection.cross_val_score` not found.\n"
     ]
    }
   ],
   "source": [
    "sklearn.model_selection.cross_val_score?"
   ]
  },
  {
   "cell_type": "code",
   "execution_count": 177,
   "metadata": {},
   "outputs": [],
   "source": [
    "#looking at cross_val_scores for GaussianNB\n",
    "\n",
    "scores_gnb = cross_val_score(gnb, x_train_lg, y_train_lg, scoring='roc_auc', cv = cv, n_jobs = -1)\n",
    "print('Mean ROC AUC for GaussianNB: %.3f' % np.mean(scores_gnb))"
   ]
  },
  {
   "cell_type": "code",
   "execution_count": 149,
   "metadata": {},
   "outputs": [
    {
     "data": {
      "text/plain": [
       "MultinomialNB()"
      ]
     },
     "execution_count": 149,
     "metadata": {},
     "output_type": "execute_result"
    }
   ],
   "source": [
    "#implementing MNB\n",
    "mnb = naive_bayes.MultinomialNB()\n",
    "mnb.fit(x_train_lg, y_train_lg)"
   ]
  },
  {
   "cell_type": "code",
   "execution_count": 182,
   "metadata": {},
   "outputs": [
    {
     "name": "stdout",
     "output_type": "stream",
     "text": [
      "Mean ROC AUC for MultinomialNB: 0.559\n"
     ]
    }
   ],
   "source": [
    "#looking at cross_val_scores for MultinomialNB\n",
    "scores_mnb = cross_val_score(mnb, x_train_lg, y_train_lg, scoring='roc_auc', cv = cv, n_jobs = -1)\n",
    "print('Mean ROC AUC for MultinomialNB: %.3f' % np.mean(scores_mnb))"
   ]
  },
  {
   "cell_type": "code",
   "execution_count": 183,
   "metadata": {},
   "outputs": [
    {
     "data": {
      "image/png": "[encoded data removed]",
      "text/plain": [
       "<Figure size 864x720 with 2 Axes>"
      ]
     },
     "metadata": {
      "needs_background": "light"
     },
     "output_type": "display_data"
    }
   ],
   "source": [
    "#predicting using MNB\n",
    "predictions_mnb = mnb.predict(x_test_lg)\n",
    "cm7 = confusion_matrix(y_test_lg, predictions_mnb)\n",
    "ax = sns.heatmap(cm7, cmap='viridis_r', annot=True, fmt='d', square=True)\n",
    "ax.set_title('MultinomialNB predicting 2018 test data')\n",
    "ax.set_xlabel('Predicted')\n",
    "ax.set_ylabel('True');"
   ]
  },
  {
   "cell_type": "code",
   "execution_count": 184,
   "metadata": {},
   "outputs": [
    {
     "name": "stdout",
     "output_type": "stream",
     "text": [
      "MultinomialNB Accuracy Score of %0.4896\n",
      "MultinomialNB Precision Score of %0.4582\n",
      "MultinomialNB Recall Score of %0.8767\n"
     ]
    }
   ],
   "source": [
    "#looking at different scores for MultinomialNB\n",
    "ac8 = accuracy_score(y_test_lg, predictions_mnb)\n",
    "rs8 = recall_score(y_test_lg, predictions_mnb)\n",
    "pr8 = precision_score(y_test_lg, predictions_mnb)\n",
    "print('MultinomialNB Accuracy Score of %{:.4f}'.format(ac8))\n",
    "print('MultinomialNB Precision Score of %{:.4f}'.format(rs8))\n",
    "print('MultinomialNB Recall Score of %{:.4f}'.format(pr8))\n"
   ]
  },
  {
   "cell_type": "code",
   "execution_count": 150,
   "metadata": {},
   "outputs": [
    {
     "data": {
      "text/plain": [
       "0.5475818937044846"
      ]
     },
     "execution_count": 150,
     "metadata": {},
     "output_type": "execute_result"
    }
   ],
   "source": [
    "#getting MultinomialNB ROC_AUC score for the 2018 data\n",
    "\n",
    "mnb_prediction_2018 = mnb.predict(targetdf2)\n",
    "roc_auc_score(test_target, mnb_prediction_2018)"
   ]
  },
  {
   "cell_type": "code",
   "execution_count": 160,
   "metadata": {},
   "outputs": [
    {
     "data": {
      "text/plain": [
       "0.5574154526384514"
      ]
     },
     "execution_count": 160,
     "metadata": {},
     "output_type": "execute_result"
    }
   ],
   "source": [
    "#getting MultinomialNB ROC_AUC score for the non-2018 data\n",
    "\n",
    "mnb_prediction_non2018 = mnb.predict(x_test_lg)\n",
    "roc_auc_score(y_test_lg, mnb_prediction_non2018)"
   ]
  },
  {
   "cell_type": "code",
   "execution_count": 132,
   "metadata": {},
   "outputs": [
    {
     "data": {
      "text/plain": [
       "LinearDiscriminantAnalysis()"
      ]
     },
     "execution_count": 132,
     "metadata": {},
     "output_type": "execute_result"
    }
   ],
   "source": [
    "#implementing Linear Discriminant Analysis (LDA)\n",
    "from sklearn import discriminant_analysis\n",
    "lda = discriminant_analysis.LinearDiscriminantAnalysis()\n",
    "lda.fit(x_train_lg, y_train_lg)"
   ]
  },
  {
   "cell_type": "code",
   "execution_count": 153,
   "metadata": {},
   "outputs": [
    {
     "data": {
      "text/plain": [
       "0.7558750945909043"
      ]
     },
     "execution_count": 153,
     "metadata": {},
     "output_type": "execute_result"
    }
   ],
   "source": [
    "#getting LDA ROC_AUC score for the 2018 data\n",
    "\n",
    "ldaprediction_2018 = lda.predict(targetdf2)\n",
    "roc_auc_score(test_target, ldaprediction_2018)"
   ]
  },
  {
   "cell_type": "code",
   "execution_count": 159,
   "metadata": {},
   "outputs": [
    {
     "data": {
      "text/plain": [
       "0.8302350480232723"
      ]
     },
     "execution_count": 159,
     "metadata": {},
     "output_type": "execute_result"
    }
   ],
   "source": [
    "#getting LDA ROC_AUC score for the non-2018 data\n",
    "\n",
    "ldaprediction_non2018 = lda.predict(x_test_lg)\n",
    "roc_auc_score(y_test_lg, ldaprediction_non2018)"
   ]
  },
  {
   "cell_type": "code",
   "execution_count": 102,
   "metadata": {},
   "outputs": [],
   "source": [
    "#pickling our lda model \n",
    "\n",
    "with open('lda_model.pickle', 'wb') as lda_model_file:\n",
    "    pickle.dump(lda, lda_model_file)"
   ]
  },
  {
   "cell_type": "code",
   "execution_count": null,
   "metadata": {},
   "outputs": [],
   "source": [
    "#looking at cross_val_scores for Linear Discriminant Analysis\n",
    "scores_lda = cross_val_score(lda, x_train_lg, y_train_lg, scoring = 'roc_auc', cv = cv, n_jobs = -1)\n"
   ]
  },
  {
   "cell_type": "code",
   "execution_count": 238,
   "metadata": {},
   "outputs": [
    {
     "name": "stdout",
     "output_type": "stream",
     "text": [
      "LinearDiscriminantAnalysis Mean Score of: %0.943\n"
     ]
    }
   ],
   "source": [
    "print('LinearDiscriminantAnalysis Mean Score of: %{:.3f}'.format(np.mean(scores_lda)))"
   ]
  },
  {
   "cell_type": "code",
   "execution_count": 133,
   "metadata": {},
   "outputs": [
    {
     "data": {
      "image/png": "[encoded data removed]",
      "text/plain": [
       "<Figure size 432x288 with 2 Axes>"
      ]
     },
     "metadata": {
      "needs_background": "light"
     },
     "output_type": "display_data"
    }
   ],
   "source": [
    "#predicting using LDA\n",
    "predictions_lda = lda.predict(x_test_lg)\n",
    "cm10 = confusion_matrix(y_test_lg, predictions_lda)\n",
    "ax = sns.heatmap(cm10, cmap='viridis_r', annot=True, fmt='d', square=True)\n",
    "ax.set_title('Linear Discriminant Analysis predicting 2018 test data')\n",
    "ax.set_xlabel('Predicted')\n",
    "ax.set_ylabel('True');"
   ]
  },
  {
   "cell_type": "code",
   "execution_count": 134,
   "metadata": {},
   "outputs": [
    {
     "data": {
      "text/plain": [
       "0.8348197403488269"
      ]
     },
     "execution_count": 134,
     "metadata": {},
     "output_type": "execute_result"
    }
   ],
   "source": [
    "roc_auc_score(predictions_lda, y_test_lg)"
   ]
  },
  {
   "cell_type": "code",
   "execution_count": 192,
   "metadata": {},
   "outputs": [
    {
     "name": "stdout",
     "output_type": "stream",
     "text": [
      "LinearDiscriminantAnalysis Accuracy Score of %0.7400\n",
      "LinearDiscriminantAnalysis Precision Score of %0.9657\n",
      "LinearDiscriminantAnalysis Recall Score of %0.7167\n"
     ]
    }
   ],
   "source": [
    "#accuracy, precision and recall scores of GNB predictions on the non-2018 data\n",
    "\n",
    "ac10 = accuracy_score(y_test_lg, predictions_gnb)\n",
    "#since false positive are more harmful than false negatives, precision_score is the most important metric to track here\n",
    "pr10 = precision_score(y_test_lg, predictions_gnb)\n",
    "re10 = recall_score(y_test_lg, predictions_gnb)\n",
    "print('LinearDiscriminantAnalysis Accuracy Score of %{:.4f}'.format(ac10))\n",
    "print('LinearDiscriminantAnalysis Precision Score of %{:.4f}'.format(pr10))\n",
    "print('LinearDiscriminantAnalysis Recall Score of %{:.4f}'.format(re10))\n"
   ]
  },
  {
   "cell_type": "code",
   "execution_count": 194,
   "metadata": {},
   "outputs": [],
   "source": [
    "#implementing RandomForestClassifier\n",
    "\n",
    "from sklearn.ensemble import RandomForestClassifier\n",
    "\n",
    "rf1 = RandomForestClassifier(n_estimators = 500, criterion = 'gini', class_weight = {1:1,0:5.36})\n",
    "# scores_rf = cross_val_score(rf1, x_train_lg, y_train_lg, scoring='roc_auc', cv = cv, n_jobs = -1)\n",
    "# print('Mean ROC AUC for Random Forests Classifier: %.3f' % np.mean(scores_rf))"
   ]
  },
  {
   "cell_type": "code",
   "execution_count": 155,
   "metadata": {},
   "outputs": [],
   "source": [
    "#loading in trained RandomForests Model \n",
    "import joblib\n",
    "\n",
    "rf2 = joblib.load('finalized_model.sav')"
   ]
  },
  {
   "cell_type": "code",
   "execution_count": 156,
   "metadata": {},
   "outputs": [
    {
     "data": {
      "text/plain": [
       "0.6968978245598481"
      ]
     },
     "execution_count": 156,
     "metadata": {},
     "output_type": "execute_result"
    }
   ],
   "source": [
    "#getting ROC_AUC Score for 2018 data from our loaded Random Forests Model\n",
    "rf2_prediction_2018 = rf2.predict(targetdf2)\n",
    "roc_auc_score(test_target, rf2_prediction_2018)"
   ]
  },
  {
   "cell_type": "code",
   "execution_count": 158,
   "metadata": {},
   "outputs": [
    {
     "data": {
      "text/plain": [
       "0.7689165215374484"
      ]
     },
     "execution_count": 158,
     "metadata": {},
     "output_type": "execute_result"
    }
   ],
   "source": [
    "#getting ROC_AUC Score for non-2018 data from our loaded Random Forests Model\n",
    "rf2_prediction_non2018 = rf2.predict(x_test_lg)\n",
    "roc_auc_score(y_test_lg, rf2_prediction_non2018)"
   ]
  },
  {
   "cell_type": "code",
   "execution_count": null,
   "metadata": {},
   "outputs": [],
   "source": [
    "#fitting and predicting with our RandomForestClassifier model\n",
    "rf1.fit(x_train_lg, y_train_lg)\n",
    "rf1predictions = rf1.predict(x_test_lg)"
   ]
  },
  {
   "cell_type": "code",
   "execution_count": 69,
   "metadata": {},
   "outputs": [
    {
     "data": {
      "image/png": "[encoded data removed]",
      "text/plain": [
       "<Figure size 432x288 with 2 Axes>"
      ]
     },
     "metadata": {
      "needs_background": "light"
     },
     "output_type": "display_data"
    }
   ],
   "source": [
    "##visualizing the confusion matrix for RandomForestClassifier model on non-2018 data \n",
    "cm3 = confusion_matrix(y_test_lg, rf1predictions)\n",
    "ax = sns.heatmap(cm3, cmap='viridis_r', annot=True, fmt='d', square=True)\n",
    "ax.set_title('RandomForestClassifier predicting 2018 test data')\n",
    "ax.set_xlabel('Predicted')\n",
    "ax.set_ylabel('True');"
   ]
  },
  {
   "cell_type": "code",
   "execution_count": 71,
   "metadata": {},
   "outputs": [
    {
     "name": "stdout",
     "output_type": "stream",
     "text": [
      "Logit Accuracy Score of %0.9032\n",
      "Logit Precision Score of %0.9229\n",
      "Logit Recall Score of %0.9657\n"
     ]
    }
   ],
   "source": [
    "#accuracy, precision and recall scores of RandomForestClassifier predictions on the non-2018 data\n",
    "\n",
    "ac4 = accuracy_score(y_test_lg, rf1predictions)\n",
    "#since false positive are more harmful than false negatives, precision_score is the most important metric to track here\n",
    "pr4 = precision_score(y_test_lg, rf1predictions)\n",
    "re4 = recall_score(y_test_lg, rf1predictions)\n",
    "print('Logit Accuracy Score of %{:.4f}'.format(ac4))\n",
    "print('Logit Precision Score of %{:.4f}'.format(pr4))\n",
    "print('Logit Recall Score of %{:.4f}'.format(re4))"
   ]
  },
  {
   "cell_type": "code",
   "execution_count": 39,
   "metadata": {},
   "outputs": [
    {
     "data": {
      "text/plain": [
       "GradientBoostingClassifier(max_depth=4, n_estimators=300, n_iter_no_change=50,\n",
       "                           validation_fraction=0.2)"
      ]
     },
     "execution_count": 39,
     "metadata": {},
     "output_type": "execute_result"
    }
   ],
   "source": [
    "#GradientBoostingClassifier\n",
    "from sklearn.ensemble import GradientBoostingClassifier\n",
    "gbc = GradientBoostingClassifier(n_estimators = 300, max_depth = 4, validation_fraction = 0.2, n_iter_no_change = 50)\n",
    "gbc.fit(x_train_lg, y_train_lg)"
   ]
  },
  {
   "cell_type": "code",
   "execution_count": 151,
   "metadata": {},
   "outputs": [
    {
     "data": {
      "text/plain": [
       "0.7662183870922619"
      ]
     },
     "execution_count": 151,
     "metadata": {},
     "output_type": "execute_result"
    }
   ],
   "source": [
    "#getting GradientBoosting ROC_AUC score for the 2018 data\n",
    "\n",
    "gbcprediction_2018 = gbc.predict(targetdf2)\n",
    "roc_auc_score(test_target, gbcprediction_2018)"
   ]
  },
  {
   "cell_type": "code",
   "execution_count": 32,
   "metadata": {},
   "outputs": [],
   "source": [
    "with open('gbc.pickle','wb') as gbc_file:\n",
    "    pickle.dump(gbc, gbc_file)"
   ]
  },
  {
   "cell_type": "code",
   "execution_count": 126,
   "metadata": {},
   "outputs": [],
   "source": [
    "predictions_gbc = gbc.predict(x_test_lg)\n",
    "cm12 = confusion_matrix(y_test_lg, predictions_gbc)"
   ]
  },
  {
   "cell_type": "code",
   "execution_count": null,
   "metadata": {},
   "outputs": [],
   "source": [
    "scores_gbc = cross_val_score(gbc, x_train_lg, y_train_lg, scoring='roc_auc', cv=cv, n_jobs=-1)"
   ]
  },
  {
   "cell_type": "code",
   "execution_count": 135,
   "metadata": {},
   "outputs": [
    {
     "data": {
      "text/plain": [
       "0.8305568754041475"
      ]
     },
     "execution_count": 135,
     "metadata": {},
     "output_type": "execute_result"
    }
   ],
   "source": [
    "#getting single roc_auc_score, not cross-validated\n",
    "\n",
    "roc_auc_score(y_test_lg, predictions_gbc)"
   ]
  },
  {
   "cell_type": "code",
   "execution_count": 205,
   "metadata": {},
   "outputs": [],
   "source": [
    "from sklearn.model_selection import GridSearchCV\n",
    "param_grid_gbc = {'max_depth':[3,4]}\n",
    "grid_search_gbc = GridSearchCV(gbc, param_grid_gbc, scoring = 'roc_auc', cv = 3, n_jobs = -1,)"
   ]
  },
  {
   "cell_type": "code",
   "execution_count": null,
   "metadata": {},
   "outputs": [],
   "source": [
    "grid_search_gbc.fit(x_train_lg, y_train_lg)"
   ]
  },
  {
   "cell_type": "code",
   "execution_count": 207,
   "metadata": {},
   "outputs": [
    {
     "data": {
      "image/png": "[encoded data removed]",
      "text/plain": [
       "<Figure size 864x720 with 2 Axes>"
      ]
     },
     "metadata": {
      "needs_background": "light"
     },
     "output_type": "display_data"
    }
   ],
   "source": [
    "predictions_gbc = gbc.predict(x_test_lg)\n",
    "cm11 = confusion_matrix(y_test_lg, predictions_gbc)\n",
    "ax = sns.heatmap(cm11, cmap='viridis_r', annot=True, fmt='d', square=True)\n",
    "ax.set_title('GradientBoostingClassifier predicting 2018 test data')\n",
    "ax.set_xlabel('Predicted')\n",
    "ax.set_ylabel('True');"
   ]
  },
  {
   "cell_type": "code",
   "execution_count": 209,
   "metadata": {},
   "outputs": [],
   "source": [
    "predicted_gbc = gbc.predict_proba(x_test_lg)"
   ]
  },
  {
   "cell_type": "code",
   "execution_count": 275,
   "metadata": {},
   "outputs": [],
   "source": [
    "concatdf['diff'] = np.where(concatdf['t1'] != 6, 1, 0)"
   ]
  },
  {
   "cell_type": "code",
   "execution_count": null,
   "metadata": {},
   "outputs": [],
   "source": [
    "concatdf['test'] = np.where((concatdf['t1'] == 6) and (concatdf['diff'] == 1), 1, 0)"
   ]
  },
  {
   "cell_type": "raw",
   "metadata": {},
   "source": [
    "def cashflows(installment, loan_amnt, term, default_rate):\n",
    "    \n",
    "    datelist = []\n",
    "    \n",
    "    dates = [0] * term\n",
    "    for idx, x in enumerate(dates):\n",
    "        dates[idx] = \n",
    "        \n",
    "    predict_prob1 = pd.DataFrame(cat1.predict_proba(test_data), columns = ['Bad_loan','Good_loan'])\n",
    "\n",
    "    \n",
    "    if term == 36:\n",
    "        dates = [0] * term\n",
    "        for idx, x in enumerate(dates):\n",
    "            if idx == 0:\n",
    "                datelist.append(tuple([pd.to_datetime(dates[idx]), loan_amnt * -1]))\n",
    "            else:\n",
    "                datelist.append(tuple([pd.to_datetime(dates[idx]), installment * default_rate]))\n",
    "                \n",
    "    elif term == 60:\n",
    "        dates = dates60\n",
    "        for idx, x in enumerate(dates):\n",
    "            if idx == 0:\n",
    "                datelist.append(tuple([pd.to_datetime(dates[idx]), loan_amnt * -1]))\n",
    "            else:\n",
    "                datelist.append(tuple([pd.to_datetime(dates[idx]), installment * default_rate]))    \n",
    "    return datelist"
   ]
  },
  {
   "cell_type": "raw",
   "metadata": {},
   "source": [
    "#concatenating our predicted_gbc array to our x_test_lg dataframe to avoid concatenation duplication later on\n",
    "\n",
    "x_test_lg2 = x_test_lg.reset_index()\n",
    "predicted_gbc_df = pd.DataFrame(predicted_gbc)\n",
    "predicted_gbc_df.columns = ['Bad_Loan','Good_Loan']\n",
    "x_test_lg2 = pd.concat([x_test_lg2, predicted_gbc_df], axis = 1)\n",
    "x_test_lg2.drop(['index'], axis = 1, inplace = True)\n",
    "\n",
    "#making our y_test_lg Series into a DataFrame and concatenating this to our x_test_lg2\n",
    "new_y_test_lg = pd.DataFrame(y_test_lg).reset_index()\n",
    "new_y_test_lg.drop(['index'], axis = 1, inplace = True)\n",
    "new_y_test_lg.columns = ['True']\n",
    "x_test_lg2 = pd.concat([x_test_lg2, new_y_test_lg], axis = 1)\n",
    "\n",
    "#creating a new Profit feature based on loan amount, term, installment, and predicted default probability\n",
    "#this will be the global metric used when optimizing for cutoff value \n",
    "x_test_lg2['False_Negative_Cost'] = (x_test_lg2['Good_Loan'] * x_test_lg2['installment'] * x_test_lg2['term'] * -1)"
   ]
  },
  {
   "cell_type": "code",
   "execution_count": null,
   "metadata": {},
   "outputs": [],
   "source": [
    "def classification_adj(x_test_lg2, cutoff_values): #x_test_lg2 is your DataFrame with the Profit feature\n",
    "    cutoff_values2 = cutoff_values[:]\n",
    "\n",
    "    global answer\n",
    "    answer = []\n",
    "    \n",
    "    newarr = [0] * x_test_lg2.shape[0]\n",
    "    \n",
    "    for cutoff in cutoff_values:\n",
    "        x_test_lg2['Predicted'] = np.where(x_test_lg2['Bad_Loan'] > cutoff, 0, 1)\n",
    "\n",
    "        x_test_lg2['cf_diff'] = np.where((x_test_lg2['Predicted'] == 0) & (x_test_lg2['True'] == 1), \n",
    "                                        x_test_lg2['False_Negative_Cost'], \n",
    "                                        np.where((x_test_lg2['Predicted'] == 1) & (x_test_lg2['True'] == 0),\n",
    "                                        -1 * x_test_lg2['loan_amnt'], 0))\n",
    "        \n",
    "        tuple1 = tuple([cutoff, np.sum(x_test_lg2['cf_diff'])])\n",
    "        answer.append(tuple1)\n",
    "        \n",
    "    return answer\n",
    "\n",
    "classification_adj(x_test_lg2, list(np.linspace(0,1,100)))"
   ]
  },
  {
   "cell_type": "code",
   "execution_count": null,
   "metadata": {
    "scrolled": true
   },
   "outputs": [],
   "source": [
    "import matplotlib.pyplot as plt\n",
    "plt.scatter(list(zip(*answer))[0],list(zip(*answer))[1])"
   ]
  },
  {
   "cell_type": "code",
   "execution_count": 25,
   "metadata": {},
   "outputs": [],
   "source": [
    "#concatenating our predict_prob_cat  array to our test_data dataframe to avoid concatenation duplication later on\n",
    "\n",
    "test_data2 = test_data.reset_index()\n",
    "predict_prob_cat = pd.DataFrame(cat1.predict_proba(test_data), columns = ['Bad_Loan','Good_Loan'])\n",
    "test_data2 = pd.concat([test_data2, predict_prob_cat], axis = 1)\n",
    "test_data2.drop(['index'], axis = 1, inplace = True)\n",
    "\n",
    "#making our y_test_lg Series into a DataFrame and concatenating this to our x_test_lg2\n",
    "new_test_target = pd.DataFrame(test_target).reset_index()\n",
    "new_test_target.drop(['index'], axis = 1, inplace = True)\n",
    "new_test_target.columns = ['True']\n",
    "test_data2 = pd.concat([test_data2, new_test_target], axis = 1)\n",
    "\n",
    "#creating a new Profit feature based on loan amount, term, installment, and predicted default probability\n",
    "#this will be the global metric used when optimizing for cutoff value \n",
    "test_data2['False_Negative_Cost'] = (test_data2['Good_Loan'] * test_data2['installment'] * test_data2['term'] * -1)"
   ]
  },
  {
   "cell_type": "code",
   "execution_count": null,
   "metadata": {},
   "outputs": [],
   "source": [
    "classification_adj(test_data2, list(np.linspace(0,1,100)))"
   ]
  },
  {
   "cell_type": "code",
   "execution_count": 216,
   "metadata": {},
   "outputs": [
    {
     "data": {
      "text/plain": [
       "<matplotlib.collections.PathCollection at 0x7fe04053b3d0>"
      ]
     },
     "execution_count": 216,
     "metadata": {},
     "output_type": "execute_result"
    },
    {
     "data": {
      "image/png": "[encoded data removed]",
      "text/plain": [
       "<Figure size 432x288 with 1 Axes>"
      ]
     },
     "metadata": {
      "needs_background": "light"
     },
     "output_type": "display_data"
    }
   ],
   "source": [
    "#visualizing cutoff threshold scatter plot for our cat boost model \n",
    "import matplotlib.pyplot as plt\n",
    "plt.scatter(list(zip(*answer))[0],list(zip(*answer))[1])"
   ]
  },
  {
   "cell_type": "code",
   "execution_count": null,
   "metadata": {},
   "outputs": [],
   "source": [
    "#accuracy, precision and recall scores of GradientBoostingClassifier predictions on non-2018 data\n",
    "\n",
    "ac11 = accuracy_score(y_test_lg, predictions_gbc)\n",
    "#since false positive are more harmful than false negatives, precision_score is the most important metric to track here\n",
    "pr11 = precision_score(y_test_lg, predictions_gbc)\n",
    "re11 = recall_score(y_test_lg, predictions_gbc)\n",
    "print('GradientBoostingClassifier Accuracy Score of %{:.4f}'.format(ac11))\n",
    "print('GradientBoostingClassifier Precision Score of %{:.4f}'.format(pr11))\n",
    "print('GradientBoostingClassifier Recall Score of %{:.4f}'.format(re11))"
   ]
  },
  {
   "cell_type": "code",
   "execution_count": 27,
   "metadata": {},
   "outputs": [],
   "source": [
    "def cashflowseries(installment, loan_amnt, term, default_rate):\n",
    "    \n",
    "    dates36 = ['10/1/2020','11/1/2020','12/1/2020',\n",
    "         '1/1/2021','2/1/2021','3/1/2021','4/1/2021','5/1/2021','6/1/2021',\n",
    "         '7/1/2021','8/1/2021','9/1/2021','10/1/2021','11/1/2021','12/1/2021',\n",
    "         '1/1/2022','2/1/2022','3/1/2022','4/1/2022','5/1/2022','6/1/2022',\n",
    "         '7/1/2022','8/1/2022','9/1/2022','10/1/2022','11/1/2022','12/1/2022',\n",
    "         '1/1/2023','2/1/2023','3/1/2023','4/1/2023','5/1/2023','6/1/2023',\n",
    "         '7/1/2023','8/1/2023','9/1/2023','10/1/2023']\n",
    "    dates60 = ['10/1/2020','11/1/2020','12/1/2020',\n",
    "         '1/1/2021','2/1/2021','3/1/2021','4/1/2021','5/1/2021','6/1/2021',\n",
    "         '7/1/2021','8/1/2021','9/1/2021','10/1/2021','11/1/2021','12/1/2021',\n",
    "         '1/1/2022','2/1/2022','3/1/2022','4/1/2022','5/1/2022','6/1/2022',\n",
    "         '7/1/2022','8/1/2022','9/1/2022','10/1/2022','11/1/2022','12/1/2022',\n",
    "         '1/1/2023','2/1/2023','3/1/2023','4/1/2023','5/1/2023','6/1/2023',\n",
    "         '7/1/2023','8/1/2023','9/1/2023','10/1/2023','11/1/2023','12/1/2023',\n",
    "          '1/1/2024','2/1/2024','3/1/2024','4/1/2024','5/1/2024','6/1/2024',\n",
    "         '7/1/2024','8/1/2024','9/1/2024','10/1/2024','11/1/2024','12/1/2024',\n",
    "         '1/1/2025','2/1/2025','3/1/2025','4/1/2025','5/1/2025','6/1/2025',\n",
    "         '7/1/2025','8/1/2025','9/1/2025','10/1/2025']\n",
    "    \n",
    "    datelist = []\n",
    "    \n",
    "    if term == 36:\n",
    "        dates = dates36\n",
    "        for idx, x in enumerate(dates):\n",
    "            if idx == 0:\n",
    "                datelist.append(tuple([pd.to_datetime(dates[idx]), loan_amnt * -1]))\n",
    "            else:\n",
    "                datelist.append(tuple([pd.to_datetime(dates[idx]), installment * default_rate]))\n",
    "                \n",
    "    elif term == 60:\n",
    "        dates = dates60\n",
    "        for idx, x in enumerate(dates):\n",
    "            if idx == 0:\n",
    "                datelist.append(tuple([pd.to_datetime(dates[idx]), loan_amnt * -1]))\n",
    "            else:\n",
    "                datelist.append(tuple([pd.to_datetime(dates[idx]), installment * default_rate]))    \n",
    "    return datelist\n",
    "    "
   ]
  },
  {
   "cell_type": "code",
   "execution_count": 222,
   "metadata": {},
   "outputs": [],
   "source": [
    "test_data2['ave_default'] = (1 - test_data2['Bad_Loan'])"
   ]
  },
  {
   "cell_type": "code",
   "execution_count": null,
   "metadata": {},
   "outputs": [],
   "source": [
    "test_data2['ave_non_default'] = (1 - test_data2['Bad_Loan'])"
   ]
  },
  {
   "cell_type": "code",
   "execution_count": 28,
   "metadata": {},
   "outputs": [],
   "source": [
    "test_data2['cashflows'] = test_data2.apply(lambda x: cashflowseries(x.installment, x.loan_amnt, x.term, x.ave_non_default), axis = 1)"
   ]
  },
  {
   "cell_type": "code",
   "execution_count": 30,
   "metadata": {},
   "outputs": [],
   "source": [
    "from scipy import optimize\n",
    "def xnpv(rate,cashflows):\n",
    "    \"\"\"\n",
    "    Calculate the net present value of a series of cashflows at irregular intervals.\n",
    "    Arguments\n",
    "    ---------\n",
    "    * rate: the discount rate to be applied to the cash flows\n",
    "    * cashflows: a list object in which each element is a tuple of the form (date, amount), where date is a python datetime.date object and amount is an integer or floating point number. Cash outflows (investments) are represented with negative amounts, and cash inflows (returns) are positive amounts.\n",
    "    \n",
    "    Returns\n",
    "    -------\n",
    "    * returns a single value which is the NPV of the given cash flows.\n",
    "    Notes\n",
    "    ---------------\n",
    "    * The Net Present Value is the sum of each of cash flows discounted back to the date of the first cash flow. \n",
    "    The discounted value of a given cash flow is A/(1+r)**(t-t0), where A is the amount, r is the discout rate, \n",
    "    and (t-t0) is the time in years from the date of the first cash flow in the series (t0) to the date of the cash flow \n",
    "    being added to the sum (t).  \n",
    "    * This function is equivalent to the Microsoft Excel function of the same name. \n",
    "    \"\"\"\n",
    "    chron_order = sorted(cashflows, key = lambda x: x[0])\n",
    "    t0 = chron_order[0][0] #t0 is the date of the first cash flow\n",
    "\n",
    "    try:\n",
    "        return sum([cf/(1+rate)**((t-t0).days/365.0) for (t,cf) in chron_order])\n",
    "    except:\n",
    "        print('Error')\n",
    "    return 0\n",
    "    \n",
    "\n",
    "def xirr(cashflows,guess=0):\n",
    "    \"\"\"\n",
    "    Calculate the Internal Rate of Return of a series of cashflows at irregular intervals.\n",
    "    Arguments\n",
    "    ---------\n",
    "    * cashflows: a list object in which each element is a tuple of the form (date, amount), \n",
    "    where date is a python datetime.date object and amount is an integer or floating point number. \n",
    "    Cash outflows (investments) are represented with negative amounts, and cash inflows (returns) are positive amounts.\n",
    "    * guess (optional, default = 0.1): a guess at the solution to be used as a starting point for the numerical solution. \n",
    "    Returns\n",
    "    --------\n",
    "    * Returns the IRR as a single value\n",
    "    \n",
    "    Notes\n",
    "    ----------------\n",
    "    * The Internal Rate of Return (IRR) is the discount rate at which the Net Present Value (NPV) of a series of cash flows is equal to zero. The NPV of the series of cash flows is determined using the xnpv function in this module. The discount rate at which NPV equals zero is found using the secant method of numerical solution. \n",
    "    * This function is equivalent to the Microsoft Excel function of the same name.\n",
    "    * For users that do not have the scipy module installed, there is an alternate version (commented out) that uses the secant_method function defined in the module rather than the scipy.optimize module's numerical solver. Both use the same method of calculation so there should be no difference in performance, but the secant_method function does not fail gracefully in cases where there is no solution, so the scipy.optimize.newton version is preferred.\n",
    "    \"\"\"\n",
    "\n",
    "    return optimize.brentq(lambda r: xnpv(r,cashflows),-0.99999, 100)\n"
   ]
  },
  {
   "cell_type": "code",
   "execution_count": 31,
   "metadata": {},
   "outputs": [],
   "source": [
    "test_data2['xirr'] = test_data2['cashflows'].apply(lambda x: xirr(x))"
   ]
  },
  {
   "cell_type": "code",
   "execution_count": null,
   "metadata": {},
   "outputs": [],
   "source": [
    "test_data2['xirr']"
   ]
  },
  {
   "cell_type": "code",
   "execution_count": 34,
   "metadata": {},
   "outputs": [],
   "source": [
    "cashflows1 = test_data2['cashflows'][:]"
   ]
  },
  {
   "cell_type": "code",
   "execution_count": 36,
   "metadata": {},
   "outputs": [],
   "source": [
    "test_data2.drop(['cashflows'], axis = 1, inplace = True)"
   ]
  },
  {
   "cell_type": "code",
   "execution_count": null,
   "metadata": {
    "scrolled": true
   },
   "outputs": [],
   "source": [
    "#Looking at feature importances of catboost classifieralgorithm \n",
    "importances = cat1.feature_importances_\n",
    "feat_imp_df = pd.DataFrame([x_train.columns.values, importances]).T   \n",
    "feat_imp_df.columns = ['Feature','Imp']\n",
    "print_full(feat_imp_df.sort_values(by = 'Imp', ascending = False))"
   ]
  },
  {
   "cell_type": "code",
   "execution_count": null,
   "metadata": {
    "scrolled": true
   },
   "outputs": [],
   "source": [
    "from sklearn.impute import KNNImputer\n",
    "imputer = KNNImputer(n_neighbors = 1)\n",
    "test1 = imputer.fit_transform(accepted_df[['num_rev_accts','total_acc']])\n",
    "test1"
   ]
  },
  {
   "cell_type": "code",
   "execution_count": null,
   "metadata": {
    "scrolled": true
   },
   "outputs": [],
   "source": [
    "#come back to this later --last_credit_pull_d\n",
    "#missing value should be filled with mode of observations with same issue_d --use groupby\n",
    "accepted_df2 = accepted_df['last_credit_pull_d'].fillna(accepted_df.groupby(['issue_d']).transform(lambda x: x.mode().iloc[0]))\n",
    "print_full(pd.DataFrame(accepted_df2))\n",
    "\n",
    "accepted_df['last_credit_pull_d'] = accepted_df.groupby(['issue_d'])['last_credit_pull_d'].agg(pd.Series.mode)"
   ]
  },
  {
   "cell_type": "code",
   "execution_count": 230,
   "metadata": {
    "scrolled": true
   },
   "outputs": [
    {
     "name": "stdout",
     "output_type": "stream",
     "text": [
      "Empty DataFrame\n",
      "Columns: [Feature, NAs]\n",
      "Index: []\n"
     ]
    }
   ],
   "source": [
    "accepted_df_na2 = (accepted_df.isna().sum()).reset_index()\n",
    "accepted_df_na2.columns = ['Feature','NAs']\n",
    "print_full(accepted_df_na2[accepted_df_na2['NAs'] > 0 ].sort_values(by = ['NAs']))"
   ]
  },
  {
   "cell_type": "code",
   "execution_count": null,
   "metadata": {},
   "outputs": [],
   "source": [
    "#imputing missing values in certain columns with simple linear regression\n",
    "from sklearn.linear_model import LinearRegression\n",
    "regress_features = ['dti']\n",
    "lnreg = LinearRegression()\n",
    "for x in regress_features:\n",
    "    missing_index = accepted_df[x].isna().index\n",
    "    accepted_df[x] = "
   ]
  },
  {
   "cell_type": "code",
   "execution_count": null,
   "metadata": {
    "scrolled": true
   },
   "outputs": [],
   "source": [
    "from sklearn.experimental import enable_iterative_imputer\n",
    "from sklearn.impute import IterativeImputer\n",
    "imp = IterativeImputer(max_iter=1, random_state=0)\n",
    "imp.fit(accepted_df[num_feat])\n",
    "imp.transform(accepted_df['dti'])"
   ]
  },
  {
   "cell_type": "code",
   "execution_count": 17,
   "metadata": {},
   "outputs": [
    {
     "data": {
      "text/plain": [
       "array([[ 2.5,  2. ,  3. ],\n",
       "       [ 4. ,  5. ,  6. ],\n",
       "       [10. ,  5. ,  9. ]])"
      ]
     },
     "execution_count": 17,
     "metadata": {},
     "output_type": "execute_result"
    }
   ],
   "source": [
    "from sklearn.impute import SimpleImputer\n",
    "df1 = pd.DataFrame([[1,np.nan,3],[4,5,np.nan]], columns = ['a','b','c'])\n",
    "imp_mean = SimpleImputer(missing_values = np.nan, strategy = 'mean')\n",
    "imp_mean.fit(df1)\n",
    "X = [[np.nan, 2, 3], [4, np.nan, 6], [10, np.nan, 9]]\n",
    "imp_mean.transform(X)"
   ]
  },
  {
   "cell_type": "code",
   "execution_count": 49,
   "metadata": {},
   "outputs": [],
   "source": [
    "model.compile(loss='binary_crossentropy', optimizer='adam', metrics=['accuracy'])\n"
   ]
  },
  {
   "cell_type": "code",
   "execution_count": null,
   "metadata": {
    "scrolled": false
   },
   "outputs": [],
   "source": [
    "model.fit(X, y, epochs=150, batch_size=10)"
   ]
  },
  {
   "cell_type": "code",
   "execution_count": 51,
   "metadata": {
    "scrolled": true
   },
   "outputs": [
    {
     "name": "stdout",
     "output_type": "stream",
     "text": [
      "24/24 [==============================] - 0s 2ms/step - loss: 0.4751 - accuracy: 0.7731\n",
      "Accuracy: 77.31\n"
     ]
    }
   ],
   "source": [
    "_, accuracy = model.evaluate(X, y)\n",
    "print('Accuracy: %.2f' % (accuracy*100))"
   ]
  },
  {
   "cell_type": "code",
   "execution_count": 86,
   "metadata": {},
   "outputs": [],
   "source": [
    "x_train_lg2 = x_train_lg #[:50000]\n",
    "x_test_lg2 = x_test_lg #[:50000]\n",
    "y_train_lg2 = y_train_lg #[:50000]\n",
    "y_test_lg2 = y_test_lg #[:50000]"
   ]
  },
  {
   "cell_type": "code",
   "execution_count": 87,
   "metadata": {},
   "outputs": [],
   "source": [
    "#implementing a neural network on our Lending Club dataset \n",
    "#scaling non-2018 data \n",
    "\n",
    "cols = x_train_lg1.columns\n",
    "cols = list(cols)\n",
    "\n",
    "x = x_train_lg2.values #returns a numpy array\n",
    "min_max_scaler = preprocessing.MinMaxScaler()\n",
    "x_scaled = min_max_scaler.fit_transform(x)\n",
    "X_train = pd.DataFrame(x_scaled)\n",
    "X_train.columns = cols\n",
    "\n",
    "x = x_test_lg2.values #returns a numpy array\n",
    "x_scaled = min_max_scaler.fit_transform(x)\n",
    "X_test = pd.DataFrame(x_scaled)\n",
    "X_test.columns = cols"
   ]
  },
  {
   "cell_type": "code",
   "execution_count": 169,
   "metadata": {},
   "outputs": [],
   "source": [
    "#scaling 2018 data to make predictions using neural net trained on non-2018 data \n",
    "\n",
    "cols2 = targetdf2.columns\n",
    "cols2 = list(cols)\n",
    "\n",
    "x2 = targetdf2.values #returns a numpy array\n",
    "x2_scaled = min_max_scaler.fit_transform(x2)\n",
    "X_train_2018 = pd.DataFrame(x2_scaled)\n",
    "X_train_2018.columns = cols2"
   ]
  },
  {
   "cell_type": "code",
   "execution_count": 88,
   "metadata": {},
   "outputs": [],
   "source": [
    "X_val, X_test, y_val, y_test = train_test_split(X_test, y_test_lg2, test_size = 0.50, random_state = 777)"
   ]
  },
  {
   "cell_type": "code",
   "execution_count": 89,
   "metadata": {},
   "outputs": [],
   "source": [
    "#train neural network and use F1 as evaluation metric\n",
    "\n",
    "from keras import backend as K\n",
    "\n",
    "def f1(y_true, y_pred):\n",
    "    def recall(y_true, y_pred):\n",
    "        \"\"\"Recall metric.\n",
    "\n",
    "        Only computes a batch-wise average of recall.\n",
    "\n",
    "        Computes the recall, a metric for multi-label classification of\n",
    "        how many relevant items are selected.\n",
    "        \"\"\"\n",
    "        true_positives = K.sum(K.round(K.clip(y_true * y_pred, 0, 1)))\n",
    "        possible_positives = K.sum(K.round(K.clip(y_true, 0, 1)))\n",
    "        recall = true_positives / (possible_positives + K.epsilon())\n",
    "        return recall\n",
    "\n",
    "    def precision(y_true, y_pred):\n",
    "        \"\"\"Precision metric.\n",
    "\n",
    "        Only computes a batch-wise average of precision.\n",
    "\n",
    "        Computes the precision, a metric for multi-label classification of\n",
    "        how many selected items are relevant.\n",
    "        \"\"\"\n",
    "        true_positives = K.sum(K.round(K.clip(y_true * y_pred, 0, 1)))\n",
    "        predicted_positives = K.sum(K.round(K.clip(y_pred, 0, 1)))\n",
    "        precision = true_positives / (predicted_positives + K.epsilon())\n",
    "        return precision\n",
    "    precision = precision(y_true, y_pred)\n",
    "    recall = recall(y_true, y_pred)\n",
    "    return 2*((precision*recall)/(precision+recall+K.epsilon()))"
   ]
  },
  {
   "cell_type": "code",
   "execution_count": null,
   "metadata": {},
   "outputs": [],
   "source": [
    "from keras import optimizers\n",
    "from keras.models import Sequential\n",
    "from keras.layers.core import Dense, Dropout, Activation\n",
    "from keras.callbacks import EarlyStopping\n",
    "from matplotlib import pyplot \n",
    "\n",
    "model = Sequential()\n",
    "model.add(Dense(4096, input_shape = (len(X_train.columns),), activation='relu'))\n",
    "#model.add(Dropout(0.3))\n",
    "model.add(Dense(2048, activation='relu'))\n",
    "model.add(Dropout(0.2))\n",
    "model.add(Dense(1024, activation='relu'))\n",
    "model.add(Dropout(0.3))\n",
    "model.add(Dense(512, activation='relu'))\n",
    "model.add(Dropout(0.3))\n",
    "model.add(Dense(256, activation='relu'))\n",
    "model.add(Dropout(0.4))\n",
    "model.add(Dense(128, activation='relu'))\n",
    "model.add(Dropout(0.5))\n",
    "model.add(Dense(64, activation='linear'))\n",
    "model.add(Dense(1, activation = 'sigmoid'))\n",
    "\n",
    "opt = optimizers.RMSprop(lr=0.00001) # default is 0.001\n",
    "model.compile(optimizer = opt,\n",
    "             loss = 'binary_crossentropy',\n",
    "             metrics = ['accuracy', f1])\n",
    "\n",
    "# Adjust the weights of the classes since your dataset is HIGHLY IMBALANCED!\n",
    "class_weight = {0: 4.25,\n",
    "                1: 1.}\n",
    "\n",
    "model.fit(X_train,\n",
    "         y_train_lg2,\n",
    "         epochs = 4,\n",
    "         batch_size = 512,\n",
    "         validation_data = (X_val, y_val), class_weight=class_weight,\n",
    "         callbacks=[EarlyStopping(monitor='val_f1', mode='max', patience=30, restore_best_weights=True)])\n",
    "\n",
    "#let's get the training and validation accuracies for plotting\n",
    "val_acc = model.history.history['val_acc']\n",
    "acc = model.history.history['acc']\n"
   ]
  },
  {
   "cell_type": "code",
   "execution_count": 91,
   "metadata": {},
   "outputs": [],
   "source": [
    "val_acc = model.history.history['val_accuracy']\n",
    "acc = model.history.history['accuracy']"
   ]
  },
  {
   "cell_type": "code",
   "execution_count": 92,
   "metadata": {},
   "outputs": [
    {
     "name": "stdout",
     "output_type": "stream",
     "text": [
      "Model: \"sequential_3\"\n",
      "_________________________________________________________________\n",
      "Layer (type)                 Output Shape              Param #   \n",
      "=================================================================\n",
      "dense_19 (Dense)             (None, 4096)              708608    \n",
      "_________________________________________________________________\n",
      "dense_20 (Dense)             (None, 2048)              8390656   \n",
      "_________________________________________________________________\n",
      "dropout_10 (Dropout)         (None, 2048)              0         \n",
      "_________________________________________________________________\n",
      "dense_21 (Dense)             (None, 1024)              2098176   \n",
      "_________________________________________________________________\n",
      "dropout_11 (Dropout)         (None, 1024)              0         \n",
      "_________________________________________________________________\n",
      "dense_22 (Dense)             (None, 512)               524800    \n",
      "_________________________________________________________________\n",
      "dropout_12 (Dropout)         (None, 512)               0         \n",
      "_________________________________________________________________\n",
      "dense_23 (Dense)             (None, 256)               131328    \n",
      "_________________________________________________________________\n",
      "dropout_13 (Dropout)         (None, 256)               0         \n",
      "_________________________________________________________________\n",
      "dense_24 (Dense)             (None, 128)               32896     \n",
      "_________________________________________________________________\n",
      "dropout_14 (Dropout)         (None, 128)               0         \n",
      "_________________________________________________________________\n",
      "dense_25 (Dense)             (None, 64)                8256      \n",
      "_________________________________________________________________\n",
      "dense_26 (Dense)             (None, 1)                 65        \n",
      "=================================================================\n",
      "Total params: 11,894,785\n",
      "Trainable params: 11,894,785\n",
      "Non-trainable params: 0\n",
      "_________________________________________________________________\n",
      "None\n"
     ]
    },
    {
     "data": {
      "image/png": "[encoded data removed]",
      "text/plain": [
       "<Figure size 612x360 with 1 Axes>"
      ]
     },
     "metadata": {
      "needs_background": "light"
     },
     "output_type": "display_data"
    }
   ],
   "source": [
    "print(model.summary())\n",
    "# let's plot the performance curve\n",
    "import matplotlib.pyplot as plt\n",
    "plt.figure()\n",
    "plt.plot(val_acc, label='Validation')\n",
    "plt.plot(acc, label = 'Training')\n",
    "plt.gcf().set_size_inches(8.5, 5)\n",
    "plt.xlabel('Epoch',size=14)\n",
    "plt.ylabel('Accuracy',size=14)\n",
    "plt.legend(loc=\"lower right\", prop={'size':11.5})\n",
    "plt.show()"
   ]
  },
  {
   "cell_type": "code",
   "execution_count": null,
   "metadata": {
    "scrolled": true
   },
   "outputs": [],
   "source": [
    "from sklearn.metrics import accuracy_score\n",
    "y_prediction = model.predict_classes(X_test)\n",
    "print(\"The Test Accuracy of the model is: {} %\".format(accuracy_score(y_test, y_prediction) * 100.)) \n",
    "print()\n",
    "\n",
    "from sklearn.metrics import confusion_matrix\n",
    "print(confusion_matrix(y_test, y_prediction))\n",
    "print()\n",
    "\n",
    "from sklearn.metrics import classification_report\n",
    "target_names = ['Charged Off', 'Fully Paid']\n",
    "print(classification_report(y_test, y_prediction, target_names=target_names))"
   ]
  },
  {
   "cell_type": "code",
   "execution_count": 85,
   "metadata": {},
   "outputs": [
    {
     "data": {
      "image/png": "[encoded data removed]",
      "text/plain": [
       "<Figure size 720x576 with 1 Axes>"
      ]
     },
     "metadata": {
      "needs_background": "light"
     },
     "output_type": "display_data"
    }
   ],
   "source": [
    "import numpy as np\n",
    "\n",
    "prob = model.predict(X_test)\n",
    "full_prob = np.zeros((y_test.shape[0],2))\n",
    "full_prob[:,0] = 1-np.squeeze(prob)\n",
    "full_prob[:,1] = np.squeeze(prob)\n",
    "\n",
    "y_test_array = np.asarray(y_test)\n",
    "y_test_ar = np.zeros((y_test.shape[0],2))\n",
    "for i in range(0, y_test.shape[0]):\n",
    "  if y_test_array[i] == 0:\n",
    "    y_test_ar[i,0] = 1\n",
    "  else:\n",
    "    y_test_ar[i,1] = 1\n",
    "    \n",
    "    \n",
    "from itertools import cycle\n",
    "\n",
    "from sklearn.metrics import roc_curve, auc\n",
    "from scipy import interp\n",
    "\n",
    "# Compute ROC curve and ROC area for each class\n",
    "fpr = dict()\n",
    "tpr = dict()\n",
    "roc_auc = dict()\n",
    "classes = [\"0: The loans were Charged Off\", \"1: The loans were Fully Paid\"]\n",
    "for i in range(0,2):\n",
    "    fpr[i], tpr[i], _ = roc_curve(y_test_ar[:, i], full_prob[:, i])\n",
    "    roc_auc[i] = auc(fpr[i], tpr[i])\n",
    "    \n",
    "plt.figure(figsize=(10,8))\n",
    "lw = 2\n",
    "for i in range(2):\n",
    "    plt.plot(fpr[i], tpr[i], lw=2,\n",
    "             label='ROC curve of Class {0} (AUC = {1:0.3f})'\n",
    "             ''.format(classes[i], roc_auc[i]))\n",
    "    \n",
    "plt.plot([0, 1], [0, 1], color='navy', lw=lw, linestyle='--')\n",
    "plt.xlim([0.0, 1.0])\n",
    "plt.ylim([0.0, 1.05])\n",
    "plt.xlabel('False Positive Rate',fontsize=15)\n",
    "plt.ylabel('True Positive Rate',fontsize=15)\n",
    "plt.title('Receiver operating characteristic (ROC) curve',fontsize=16)\n",
    "plt.legend(loc=\"lower right\",fontsize=12)\n",
    "plt.show()"
   ]
  },
  {
   "cell_type": "code",
   "execution_count": 103,
   "metadata": {},
   "outputs": [],
   "source": [
    "#serializing our model and saving to disk in order to load into our application later on\n",
    "model.save('model.h5')"
   ]
  },
  {
   "cell_type": "code",
   "execution_count": 137,
   "metadata": {},
   "outputs": [
    {
     "data": {
      "text/plain": [
       "0.883799839809199"
      ]
     },
     "execution_count": 137,
     "metadata": {},
     "output_type": "execute_result"
    }
   ],
   "source": [
    "predictions_nn = model.predict_classes(X_test)\n",
    "roc_auc_score(y_test, predictions_nn)"
   ]
  },
  {
   "cell_type": "code",
   "execution_count": 173,
   "metadata": {},
   "outputs": [
    {
     "data": {
      "text/html": [
       "<div>\n",
       "<style scoped>\n",
       "    .dataframe tbody tr th:only-of-type {\n",
       "        vertical-align: middle;\n",
       "    }\n",
       "\n",
       "    .dataframe tbody tr th {\n",
       "        vertical-align: top;\n",
       "    }\n",
       "\n",
       "    .dataframe thead th {\n",
       "        text-align: right;\n",
       "    }\n",
       "</style>\n",
       "<table border=\"1\" class=\"dataframe\">\n",
       "  <thead>\n",
       "    <tr style=\"text-align: right;\">\n",
       "      <th></th>\n",
       "      <th>Model</th>\n",
       "      <th>Non-2018 test data AUC score</th>\n",
       "      <th>2018 test data AUC score</th>\n",
       "    </tr>\n",
       "  </thead>\n",
       "  <tbody>\n",
       "    <tr>\n",
       "      <th>0</th>\n",
       "      <td>Logistic Regression</td>\n",
       "      <td>0.583</td>\n",
       "      <td>0.563</td>\n",
       "    </tr>\n",
       "    <tr>\n",
       "      <th>1</th>\n",
       "      <td>Linear Discriminant Analysis</td>\n",
       "      <td>0.830</td>\n",
       "      <td>0.756</td>\n",
       "    </tr>\n",
       "    <tr>\n",
       "      <th>2</th>\n",
       "      <td>Quadratic Discriminant Analysis</td>\n",
       "      <td>0.616</td>\n",
       "      <td>0.641</td>\n",
       "    </tr>\n",
       "    <tr>\n",
       "      <th>3</th>\n",
       "      <td>Multinomial Naive Bayes</td>\n",
       "      <td>0.557</td>\n",
       "      <td>0.548</td>\n",
       "    </tr>\n",
       "    <tr>\n",
       "      <th>4</th>\n",
       "      <td>Gaussian Naive Bayes</td>\n",
       "      <td>0.791</td>\n",
       "      <td>0.756</td>\n",
       "    </tr>\n",
       "    <tr>\n",
       "      <th>5</th>\n",
       "      <td>Gradient Boosting Classifier</td>\n",
       "      <td>0.831</td>\n",
       "      <td>0.766</td>\n",
       "    </tr>\n",
       "    <tr>\n",
       "      <th>6</th>\n",
       "      <td>Random Forest Classifier</td>\n",
       "      <td>0.769</td>\n",
       "      <td>0.697</td>\n",
       "    </tr>\n",
       "    <tr>\n",
       "      <th>7</th>\n",
       "      <td>Catboost Classifier</td>\n",
       "      <td>0.892</td>\n",
       "      <td>0.841</td>\n",
       "    </tr>\n",
       "    <tr>\n",
       "      <th>8</th>\n",
       "      <td>MLP Neural Net</td>\n",
       "      <td>0.884</td>\n",
       "      <td>0.816</td>\n",
       "    </tr>\n",
       "  </tbody>\n",
       "</table>\n",
       "</div>"
      ],
      "text/plain": [
       "                             Model  Non-2018 test data AUC score  \\\n",
       "0              Logistic Regression                         0.583   \n",
       "1     Linear Discriminant Analysis                         0.830   \n",
       "2  Quadratic Discriminant Analysis                         0.616   \n",
       "3          Multinomial Naive Bayes                         0.557   \n",
       "4             Gaussian Naive Bayes                         0.791   \n",
       "5     Gradient Boosting Classifier                         0.831   \n",
       "6         Random Forest Classifier                         0.769   \n",
       "7              Catboost Classifier                         0.892   \n",
       "8                   MLP Neural Net                         0.884   \n",
       "\n",
       "   2018 test data AUC score  \n",
       "0                     0.563  \n",
       "1                     0.756  \n",
       "2                     0.641  \n",
       "3                     0.548  \n",
       "4                     0.756  \n",
       "5                     0.766  \n",
       "6                     0.697  \n",
       "7                     0.841  \n",
       "8                     0.816  "
      ]
     },
     "execution_count": 173,
     "metadata": {},
     "output_type": "execute_result"
    }
   ],
   "source": [
    "machine_learning_results = pd.DataFrame({'Model':['Logistic Regression','Linear Discriminant Analysis','Quadratic Discriminant Analysis',\n",
    "    'Multinomial Naive Bayes','Gaussian Naive Bayes','Gradient Boosting Classifier','Random Forest Classifier','Catboost Classifier','MLP Neural Net'],\n",
    "    'Non-2018 test data AUC score':[0.583, 0.830, 0.616, 0.557, 0.791, 0.831, 0.769, 0.892, 0.884], \n",
    "    '2018 test data AUC score':[0.563, 0.756, 0.641, 0.548, 0.756, 0.766, 0.697, 0.841, 0.816]})\n",
    "machine_learning_results"
   ]
  },
  {
   "cell_type": "code",
   "execution_count": null,
   "metadata": {
    "scrolled": true
   },
   "outputs": [],
   "source": [
    "machine_learning_results.to_dict('records')"
   ]
  },
  {
   "cell_type": "code",
   "execution_count": 171,
   "metadata": {},
   "outputs": [
    {
     "data": {
      "text/plain": [
       "0.8155649094337568"
      ]
     },
     "execution_count": 171,
     "metadata": {},
     "output_type": "execute_result"
    }
   ],
   "source": [
    "#predicting 2018 data using neural net model \n",
    "\n",
    "predictions_nn2 = model.predict_classes(X_train_2018)\n",
    "roc_auc_score(test_target, predictions_nn2)"
   ]
  },
  {
   "cell_type": "code",
   "execution_count": 118,
   "metadata": {},
   "outputs": [
    {
     "data": {
      "text/plain": [
       "0.967451"
      ]
     },
     "execution_count": 118,
     "metadata": {},
     "output_type": "execute_result"
    }
   ],
   "source": [
    "#model predictions\n",
    "\n",
    "model.predict(X_test.loc[323571:323571,:])[0][0]"
   ]
  },
  {
   "cell_type": "code",
   "execution_count": 175,
   "metadata": {},
   "outputs": [],
   "source": [
    "#outputting confusion matrix for neural net \n",
    "\n",
    "cm_nn = confusion_matrix(test_target, predictions_nn2)"
   ]
  },
  {
   "cell_type": "code",
   "execution_count": 176,
   "metadata": {},
   "outputs": [
    {
     "data": {
      "text/plain": [
       "array([[ 11764,   5934],\n",
       "       [ 16035, 461509]])"
      ]
     },
     "execution_count": 176,
     "metadata": {},
     "output_type": "execute_result"
    }
   ],
   "source": [
    "cm_nn"
   ]
  },
  {
   "cell_type": "code",
   "execution_count": 177,
   "metadata": {},
   "outputs": [
    {
     "data": {
      "text/html": [
       "<div>\n",
       "<style scoped>\n",
       "    .dataframe tbody tr th:only-of-type {\n",
       "        vertical-align: middle;\n",
       "    }\n",
       "\n",
       "    .dataframe tbody tr th {\n",
       "        vertical-align: top;\n",
       "    }\n",
       "\n",
       "    .dataframe thead th {\n",
       "        text-align: right;\n",
       "    }\n",
       "</style>\n",
       "<table border=\"1\" class=\"dataframe\">\n",
       "  <thead>\n",
       "    <tr style=\"text-align: right;\">\n",
       "      <th></th>\n",
       "      <th>loan_amnt</th>\n",
       "      <th>term</th>\n",
       "      <th>int_rate</th>\n",
       "      <th>installment</th>\n",
       "      <th>sub_grade</th>\n",
       "      <th>emp_length</th>\n",
       "      <th>home_ownership</th>\n",
       "      <th>annual_inc</th>\n",
       "      <th>verification_status</th>\n",
       "      <th>loan_status</th>\n",
       "      <th>...</th>\n",
       "      <th>pub_rec_bankruptcies</th>\n",
       "      <th>tax_liens</th>\n",
       "      <th>tot_hi_cred_lim</th>\n",
       "      <th>total_bc_limit</th>\n",
       "      <th>total_il_high_credit_limit</th>\n",
       "      <th>disbursement_method</th>\n",
       "      <th>issue_d_date</th>\n",
       "      <th>Year</th>\n",
       "      <th>earliest_cr_line_date</th>\n",
       "      <th>earliest_credit_line_years</th>\n",
       "    </tr>\n",
       "  </thead>\n",
       "  <tbody>\n",
       "    <tr>\n",
       "      <th>0</th>\n",
       "      <td>3600.0</td>\n",
       "      <td>36</td>\n",
       "      <td>13.99</td>\n",
       "      <td>123.03</td>\n",
       "      <td>C4</td>\n",
       "      <td>11.0</td>\n",
       "      <td>MORTGAGE</td>\n",
       "      <td>55000.0</td>\n",
       "      <td>Not Verified</td>\n",
       "      <td>1</td>\n",
       "      <td>...</td>\n",
       "      <td>0.0</td>\n",
       "      <td>0.0</td>\n",
       "      <td>178050.0</td>\n",
       "      <td>2400.0</td>\n",
       "      <td>13734.0</td>\n",
       "      <td>Cash</td>\n",
       "      <td>2015-12-15</td>\n",
       "      <td>2015</td>\n",
       "      <td>2003-08-15</td>\n",
       "      <td>4505 days</td>\n",
       "    </tr>\n",
       "    <tr>\n",
       "      <th>1</th>\n",
       "      <td>24700.0</td>\n",
       "      <td>36</td>\n",
       "      <td>11.99</td>\n",
       "      <td>820.28</td>\n",
       "      <td>C1</td>\n",
       "      <td>11.0</td>\n",
       "      <td>MORTGAGE</td>\n",
       "      <td>65000.0</td>\n",
       "      <td>Not Verified</td>\n",
       "      <td>1</td>\n",
       "      <td>...</td>\n",
       "      <td>0.0</td>\n",
       "      <td>0.0</td>\n",
       "      <td>314017.0</td>\n",
       "      <td>79300.0</td>\n",
       "      <td>24667.0</td>\n",
       "      <td>Cash</td>\n",
       "      <td>2015-12-15</td>\n",
       "      <td>2015</td>\n",
       "      <td>1999-12-15</td>\n",
       "      <td>5844 days</td>\n",
       "    </tr>\n",
       "    <tr>\n",
       "      <th>2</th>\n",
       "      <td>20000.0</td>\n",
       "      <td>60</td>\n",
       "      <td>10.78</td>\n",
       "      <td>432.66</td>\n",
       "      <td>B4</td>\n",
       "      <td>11.0</td>\n",
       "      <td>MORTGAGE</td>\n",
       "      <td>63000.0</td>\n",
       "      <td>Not Verified</td>\n",
       "      <td>1</td>\n",
       "      <td>...</td>\n",
       "      <td>0.0</td>\n",
       "      <td>0.0</td>\n",
       "      <td>218418.0</td>\n",
       "      <td>6200.0</td>\n",
       "      <td>14877.0</td>\n",
       "      <td>Cash</td>\n",
       "      <td>2015-12-15</td>\n",
       "      <td>2015</td>\n",
       "      <td>2000-08-15</td>\n",
       "      <td>5600 days</td>\n",
       "    </tr>\n",
       "    <tr>\n",
       "      <th>3</th>\n",
       "      <td>35000.0</td>\n",
       "      <td>60</td>\n",
       "      <td>14.85</td>\n",
       "      <td>829.90</td>\n",
       "      <td>C5</td>\n",
       "      <td>11.0</td>\n",
       "      <td>MORTGAGE</td>\n",
       "      <td>110000.0</td>\n",
       "      <td>Source Verified</td>\n",
       "      <td>1</td>\n",
       "      <td>...</td>\n",
       "      <td>0.0</td>\n",
       "      <td>0.0</td>\n",
       "      <td>381215.0</td>\n",
       "      <td>62500.0</td>\n",
       "      <td>18000.0</td>\n",
       "      <td>Cash</td>\n",
       "      <td>2015-12-15</td>\n",
       "      <td>2015</td>\n",
       "      <td>2008-09-15</td>\n",
       "      <td>2647 days</td>\n",
       "    </tr>\n",
       "    <tr>\n",
       "      <th>4</th>\n",
       "      <td>10400.0</td>\n",
       "      <td>60</td>\n",
       "      <td>22.45</td>\n",
       "      <td>289.91</td>\n",
       "      <td>F1</td>\n",
       "      <td>3.0</td>\n",
       "      <td>MORTGAGE</td>\n",
       "      <td>104433.0</td>\n",
       "      <td>Source Verified</td>\n",
       "      <td>1</td>\n",
       "      <td>...</td>\n",
       "      <td>0.0</td>\n",
       "      <td>0.0</td>\n",
       "      <td>439570.0</td>\n",
       "      <td>20300.0</td>\n",
       "      <td>88097.0</td>\n",
       "      <td>Cash</td>\n",
       "      <td>2015-12-15</td>\n",
       "      <td>2015</td>\n",
       "      <td>1998-06-15</td>\n",
       "      <td>6392 days</td>\n",
       "    </tr>\n",
       "  </tbody>\n",
       "</table>\n",
       "<p>5 rows × 82 columns</p>\n",
       "</div>"
      ],
      "text/plain": [
       "   loan_amnt  term  int_rate  installment sub_grade  emp_length  \\\n",
       "0     3600.0    36     13.99       123.03        C4        11.0   \n",
       "1    24700.0    36     11.99       820.28        C1        11.0   \n",
       "2    20000.0    60     10.78       432.66        B4        11.0   \n",
       "3    35000.0    60     14.85       829.90        C5        11.0   \n",
       "4    10400.0    60     22.45       289.91        F1         3.0   \n",
       "\n",
       "  home_ownership  annual_inc verification_status  loan_status  ...  \\\n",
       "0       MORTGAGE     55000.0        Not Verified            1  ...   \n",
       "1       MORTGAGE     65000.0        Not Verified            1  ...   \n",
       "2       MORTGAGE     63000.0        Not Verified            1  ...   \n",
       "3       MORTGAGE    110000.0     Source Verified            1  ...   \n",
       "4       MORTGAGE    104433.0     Source Verified            1  ...   \n",
       "\n",
       "  pub_rec_bankruptcies tax_liens  tot_hi_cred_lim  total_bc_limit  \\\n",
       "0                  0.0       0.0         178050.0          2400.0   \n",
       "1                  0.0       0.0         314017.0         79300.0   \n",
       "2                  0.0       0.0         218418.0          6200.0   \n",
       "3                  0.0       0.0         381215.0         62500.0   \n",
       "4                  0.0       0.0         439570.0         20300.0   \n",
       "\n",
       "   total_il_high_credit_limit  disbursement_method  issue_d_date  Year  \\\n",
       "0                     13734.0                 Cash    2015-12-15  2015   \n",
       "1                     24667.0                 Cash    2015-12-15  2015   \n",
       "2                     14877.0                 Cash    2015-12-15  2015   \n",
       "3                     18000.0                 Cash    2015-12-15  2015   \n",
       "4                     88097.0                 Cash    2015-12-15  2015   \n",
       "\n",
       "   earliest_cr_line_date earliest_credit_line_years  \n",
       "0             2003-08-15                  4505 days  \n",
       "1             1999-12-15                  5844 days  \n",
       "2             2000-08-15                  5600 days  \n",
       "3             2008-09-15                  2647 days  \n",
       "4             1998-06-15                  6392 days  \n",
       "\n",
       "[5 rows x 82 columns]"
      ]
     },
     "execution_count": 177,
     "metadata": {},
     "output_type": "execute_result"
    }
   ],
   "source": [
    "accepted_df.head()"
   ]
  },
  {
   "cell_type": "code",
   "execution_count": 50,
   "metadata": {},
   "outputs": [],
   "source": [
    "test_data2['Predicted'] = np.where((test_data2['Good_Loan'] > 0.7373737373737), 1, 0)"
   ]
  },
  {
   "cell_type": "code",
   "execution_count": 56,
   "metadata": {},
   "outputs": [
    {
     "data": {
      "text/plain": [
       "1.0"
      ]
     },
     "execution_count": 56,
     "metadata": {},
     "output_type": "execute_result"
    }
   ],
   "source": [
    "test_data2.loc[0,'True'] / test_data2.loc[1,'True']"
   ]
  },
  {
   "cell_type": "code",
   "execution_count": 62,
   "metadata": {},
   "outputs": [
    {
     "data": {
      "text/plain": [
       "0.037060459350342585"
      ]
     },
     "execution_count": 62,
     "metadata": {},
     "output_type": "execute_result"
    }
   ],
   "source": [
    "test_data2['True'].value_counts()[0] / test_data2['True'].value_counts()[1]"
   ]
  },
  {
   "cell_type": "code",
   "execution_count": 63,
   "metadata": {},
   "outputs": [
    {
     "data": {
      "text/plain": [
       "0.10529546068298432"
      ]
     },
     "execution_count": 63,
     "metadata": {},
     "output_type": "execute_result"
    }
   ],
   "source": [
    "test_data2['Predicted'].value_counts()[0] / test_data2['Predicted'].value_counts()[1]"
   ]
  },
  {
   "cell_type": "code",
   "execution_count": 66,
   "metadata": {},
   "outputs": [],
   "source": [
    "test_data2['Profit'] = np.where((test_data2['Predicted'] == 1) & (test_data2['True'] == 0), test_data2['loan_amnt'] * -1,\n",
    "                             np.where((test_data2['Predicted'] == 1) & (test_data2['True'] == 1),\n",
    "                                     test_data2['installment'] * test_data2['term'],0))"
   ]
  },
  {
   "cell_type": "code",
   "execution_count": 67,
   "metadata": {},
   "outputs": [
    {
     "data": {
      "text/plain": [
       "8914328811.44"
      ]
     },
     "execution_count": 67,
     "metadata": {},
     "output_type": "execute_result"
    }
   ],
   "source": [
    "test_data2['Profit'].sum()"
   ]
  },
  {
   "cell_type": "code",
   "execution_count": 68,
   "metadata": {},
   "outputs": [],
   "source": [
    "test_data2['Total_IRR'] = np.where((test_data2['Predicted'] == 1) & (test_data2['True'] == 0), 0,\n",
    "                             np.where((test_data2['Predicted'] == 1) & (test_data2['True'] == 1),\n",
    "                                     test_data2['xirr'],0))"
   ]
  },
  {
   "cell_type": "code",
   "execution_count": 78,
   "metadata": {},
   "outputs": [],
   "source": [
    "test_data2['PredictAll1'] = 1"
   ]
  },
  {
   "cell_type": "code",
   "execution_count": null,
   "metadata": {},
   "outputs": [],
   "source": [
    "test_data2['Total_IRR'] = np.where((test_data2['Predicted'] == 1) & (test_data2['True'] == 0), 0,\n",
    "                             np.where((test_data2['Predicted'] == 1) & (test_data2['True'] == 1),\n",
    "                                     test_data2['xirr'],0))"
   ]
  },
  {
   "cell_type": "code",
   "execution_count": null,
   "metadata": {},
   "outputs": [],
   "source": [
    "groupby_term = test_data2.groupby(['term'])['Total_IRR'].agg('mean')\n",
    "groupby_term = pd.DataFrame(groupby_term)"
   ]
  },
  {
   "cell_type": "code",
   "execution_count": 79,
   "metadata": {},
   "outputs": [],
   "source": [
    "test_data2['Total_IRR_Dumb_Model'] = np.where((test_data2['PredictAll1'] == 1) & (test_data2['True'] == 0), 0,\n",
    "                             np.where((test_data2['PredictAll1'] == 1) & (test_data2['True'] == 1),\n",
    "                                     test_data2['xirr'],0))"
   ]
  },
  {
   "cell_type": "code",
   "execution_count": 82,
   "metadata": {},
   "outputs": [],
   "source": [
    "groupby_term_dumb = test_data2.groupby(['term'])['Total_IRR_Dumb_Model'].agg('mean')\n",
    "groupby_term_dumb = pd.DataFrame(groupby_term_dumb)"
   ]
  },
  {
   "cell_type": "code",
   "execution_count": 83,
   "metadata": {},
   "outputs": [
    {
     "data": {
      "text/html": [
       "<div>\n",
       "<style scoped>\n",
       "    .dataframe tbody tr th:only-of-type {\n",
       "        vertical-align: middle;\n",
       "    }\n",
       "\n",
       "    .dataframe tbody tr th {\n",
       "        vertical-align: top;\n",
       "    }\n",
       "\n",
       "    .dataframe thead th {\n",
       "        text-align: right;\n",
       "    }\n",
       "</style>\n",
       "<table border=\"1\" class=\"dataframe\">\n",
       "  <thead>\n",
       "    <tr style=\"text-align: right;\">\n",
       "      <th></th>\n",
       "      <th>Total_IRR_Dumb_Model</th>\n",
       "    </tr>\n",
       "    <tr>\n",
       "      <th>term</th>\n",
       "      <th></th>\n",
       "    </tr>\n",
       "  </thead>\n",
       "  <tbody>\n",
       "    <tr>\n",
       "      <th>36</th>\n",
       "      <td>0.058941</td>\n",
       "    </tr>\n",
       "    <tr>\n",
       "      <th>60</th>\n",
       "      <td>0.096728</td>\n",
       "    </tr>\n",
       "  </tbody>\n",
       "</table>\n",
       "</div>"
      ],
      "text/plain": [
       "      Total_IRR_Dumb_Model\n",
       "term                      \n",
       "36                0.058941\n",
       "60                0.096728"
      ]
     },
     "execution_count": 83,
     "metadata": {},
     "output_type": "execute_result"
    }
   ],
   "source": [
    "groupby_term_dumb"
   ]
  },
  {
   "cell_type": "code",
   "execution_count": 76,
   "metadata": {},
   "outputs": [
    {
     "data": {
      "text/html": [
       "<div>\n",
       "<style scoped>\n",
       "    .dataframe tbody tr th:only-of-type {\n",
       "        vertical-align: middle;\n",
       "    }\n",
       "\n",
       "    .dataframe tbody tr th {\n",
       "        vertical-align: top;\n",
       "    }\n",
       "\n",
       "    .dataframe thead th {\n",
       "        text-align: right;\n",
       "    }\n",
       "</style>\n",
       "<table border=\"1\" class=\"dataframe\">\n",
       "  <thead>\n",
       "    <tr style=\"text-align: right;\">\n",
       "      <th></th>\n",
       "      <th>Total_IRR</th>\n",
       "    </tr>\n",
       "    <tr>\n",
       "      <th>term</th>\n",
       "      <th></th>\n",
       "    </tr>\n",
       "  </thead>\n",
       "  <tbody>\n",
       "    <tr>\n",
       "      <th>36</th>\n",
       "      <td>0.073926</td>\n",
       "    </tr>\n",
       "    <tr>\n",
       "      <th>60</th>\n",
       "      <td>0.106258</td>\n",
       "    </tr>\n",
       "  </tbody>\n",
       "</table>\n",
       "</div>"
      ],
      "text/plain": [
       "      Total_IRR\n",
       "term           \n",
       "36     0.073926\n",
       "60     0.106258"
      ]
     },
     "execution_count": 76,
     "metadata": {},
     "output_type": "execute_result"
    }
   ],
   "source": [
    "groupby_term"
   ]
  },
  {
   "cell_type": "code",
   "execution_count": 86,
   "metadata": {},
   "outputs": [
    {
     "name": "stdout",
     "output_type": "stream",
     "text": [
      "3.062550742374941\n"
     ]
    }
   ],
   "source": [
    "#36-month loans \n",
    "\n",
    "#comparing variances of the two groups to see if we can assume equal variance when performing two sample t-test\n",
    "group1 = test_data2['Total_IRR']\n",
    "group2 = test_data2['Total_IRR_Dumb_Model']\n",
    "print(np.var(group2) / np.var(group1))\n",
    "#since their ratio is <4, we can assume equal variances for our two sample t-test"
   ]
  },
  {
   "cell_type": "code",
   "execution_count": 87,
   "metadata": {},
   "outputs": [
    {
     "data": {
      "text/plain": [
       "Ttest_indResult(statistic=78.24354390640326, pvalue=0.0)"
      ]
     },
     "execution_count": 87,
     "metadata": {},
     "output_type": "execute_result"
    }
   ],
   "source": [
    "import scipy.stats as stats\n",
    "\n",
    "stats.ttest_ind(a=group1, b=group2, equal_var=True)"
   ]
  },
  {
   "cell_type": "code",
   "execution_count": 90,
   "metadata": {},
   "outputs": [],
   "source": [
    "with open('test_data2.pickle','wb') as test_data2_file:\n",
    "     pickle.dump(test_data2, test_data2_file)"
   ]
  },
  {
   "cell_type": "code",
   "execution_count": 159,
   "metadata": {},
   "outputs": [],
   "source": [
    "test_data3 = test_data2[['home_ownership','purpose','addr_state','loan_amnt','term','int_rate','installment',\n",
    "                            'True_IRR','xirr']]"
   ]
  },
  {
   "cell_type": "code",
   "execution_count": null,
   "metadata": {},
   "outputs": [],
   "source": [
    "test_data3.rename(columns = {'home_ownership':'Home_Ownership_Status','purpose':'Loan_Purpose','addr_state':'State',\n",
    "                         'loan_amnt':'Loan_Amount','term':'Loan_Term','int_rate':'Loan_Interest_Rate',\n",
    "                        'installment':'Loan_Installment','Total_IRR':'True_IRR','xirr':'Predicted_IRR'}, inplace = True) "
   ]
  },
  {
   "cell_type": "code",
   "execution_count": 142,
   "metadata": {},
   "outputs": [],
   "source": [
    "test_data3 = test_data3[['Home_Ownership_Status', 'Loan_Purpose','State',\n",
    "                         'Loan_Amount','Loan_Term','Loan_Interest_Rate','Loan_Installment','Predicted_IRR','True_IRR']]"
   ]
  },
  {
   "cell_type": "code",
   "execution_count": 127,
   "metadata": {},
   "outputs": [],
   "source": [
    "test_data2.rename(columns = {'Predicted_IRR':'xirr','Loan_Installment':'Installment'}, inplace = True)"
   ]
  },
  {
   "cell_type": "code",
   "execution_count": null,
   "metadata": {},
   "outputs": [],
   "source": [
    "test_data3 = test_data3.loc[test_data3['Predicted_IRR'] > 0.01]\n",
    "test_data3 = test_data3.sort_values('Predicted_IRR', ascending = False)\n",
    "test_data3.head()"
   ]
  },
  {
   "cell_type": "code",
   "execution_count": null,
   "metadata": {},
   "outputs": [],
   "source": [
    "test_data3 = test_data3.sample(50000)\n",
    "test_data3.head()"
   ]
  },
  {
   "cell_type": "code",
   "execution_count": 164,
   "metadata": {},
   "outputs": [],
   "source": [
    "with open('test_data2.pickle','wb') as test_data3_file:\n",
    "     pickle.dump(test_data3, test_data3_file)"
   ]
  },
  {
   "cell_type": "code",
   "execution_count": 95,
   "metadata": {},
   "outputs": [
    {
     "data": {
      "text/plain": [
       "['RENT', 'OWN', 'MORTGAGE', 'ANY']"
      ]
     },
     "execution_count": 95,
     "metadata": {},
     "output_type": "execute_result"
    }
   ],
   "source": [
    "list(test_data2['home_ownership'].unique())"
   ]
  },
  {
   "cell_type": "code",
   "execution_count": null,
   "metadata": {},
   "outputs": [],
   "source": [
    "purposes = []\n",
    "for x in list(test_data2['purpose'].unique()):\n",
    "    purposes.append({'label':x,'value':x})\n",
    "purposes"
   ]
  },
  {
   "cell_type": "raw",
   "metadata": {},
   "source": [
    "data = test_data2.loc[(test_data2['addr_state'] == 'ND') & (test_data2['home_ownership'] == 'RENT') & (test_data2['purpose'] == 'debt_consolidation')]\n",
    "# sorted(data, key = lambda )\n",
    "data"
   ]
  },
  {
   "cell_type": "code",
   "execution_count": null,
   "metadata": {},
   "outputs": [],
   "source": []
  }
 ],
 "metadata": {
  "kernelspec": {
   "display_name": "Python 3",
   "language": "python",
   "name": "python3"
  },
  "language_info": {
   "codemirror_mode": {
    "name": "ipython",
    "version": 3
   },
   "file_extension": ".py",
   "mimetype": "text/x-python",
   "name": "python",
   "nbconvert_exporter": "python",
   "pygments_lexer": "ipython3",
   "version": "3.7.7"
  }
 },
 "nbformat": 4,
 "nbformat_minor": 4
}
